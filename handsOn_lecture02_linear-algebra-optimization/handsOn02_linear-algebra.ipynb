{
 "cells": [
  {
   "cell_type": "markdown",
   "metadata": {
    "slideshow": {
     "slide_type": "slide"
    }
   },
   "source": [
    "# EECS 445:  Introduction to Machine Learning\n",
    "\n",
    "## Hands-On Lecture 2:  Linear Algebra\n",
    "\n",
    "*Wednesday, September 14, 2016*"
   ]
  },
  {
   "cell_type": "markdown",
   "metadata": {
    "slideshow": {
     "slide_type": "slide"
    }
   },
   "source": [
    "## Outline\n",
    "\n",
    "> This hands-on lecture corresponds to material from **Lecture 02: Linear Algebra & Optimization**.\n",
    "\n",
    "**Advice:  Interpreting Matrix Operations (10-15mins)**\n",
    "* Matrix-vector multiplication\n",
    "* **Problem 1:**  Image of a matrix\n",
    "* Matrix-matrix multiplication\n",
    "\n",
    "**Hands-on Exercises (60mins)**\n",
    "* **Problem 2:**  Matrix Transpose\n",
    "* **Problem 3:**  Infinity Norm\n",
    "* **Problem 4:**  Matrix Inverse\n",
    "* **Problem 5:**  Singular Values"
   ]
  },
  {
   "cell_type": "markdown",
   "metadata": {
    "slideshow": {
     "slide_type": "slide"
    }
   },
   "source": [
    "## Advice:  Interpreting Matrix Operations\n",
    "\n",
    "\n",
    "> Think of matrix operations in terms of row- and column-vectors, rather than in terms of individual entries.\n",
    "\n",
    "<div style=\"font-size:10px; float:right\">\n",
    "This section borrows material heavily from the first chapter of Trefethen &amp; Bau, [\"Numerical Linear Algebra\"](http://bookstore.siam.org/ot50/)\n",
    "</div>"
   ]
  },
  {
   "cell_type": "markdown",
   "metadata": {
    "slideshow": {
     "slide_type": "slide"
    }
   },
   "source": [
    "### Advice:  Matrix-Vector Multiplication (Row View)\n",
    "\n",
    "Recall the following definition of matrix multiplication:\n",
    "\n",
    "> If $x \\in \\mathbb{R}^n$ and $A \\in \\mathbb{R}^{m \\times n}$, then the $i$th entry of $b = Ax \\in \\mathbb{R}^m$ is:\n",
    "\n",
    "$$\n",
    "b_i = \\sum_{j=1}^n a_{ij} x_j \\quad (i = 1,\\dots,m)\n",
    "$$\n",
    "\n",
    "In other words, $b$ is a dot product between $x$ and the rows of $A$. If you think of $A$ as data matrix, it is useful to keep in mind the following interpretation:\n",
    "<div style=\"margin: 20px; border: 1px solid black; padding: 20px; text-align:center\">\n",
    "Each <i>row</i> of $A$ is \"scored\" based on how well it aligns with the vector $x$.\n",
    "</div>\n"
   ]
  },
  {
   "cell_type": "markdown",
   "metadata": {
    "slideshow": {
     "slide_type": "slide"
    }
   },
   "source": [
    "### Advice:  Matrix-Vector Multiplication (Column View)\n",
    "\n",
    "An alternative interpretation that comes handy when you want to study the subspaces of matrix is:\n",
    "<div style=\"margin: 20px; border: 1px solid black; padding: 20px; text-align:center\">\n",
    "If $b = Ax$, then $b$ is a linear combination of the <i>columns</i> of $A$, with coefficients from the vector $x$.\n",
    "</div>\n",
    "\n",
    "![Matrix-Vector Multiplication](images/matrix-vector-1.png)\n"
   ]
  },
  {
   "cell_type": "markdown",
   "metadata": {
    "slideshow": {
     "slide_type": "slide"
    }
   },
   "source": [
    "### Problem 1:  Range and Nullspace\n",
    "\n",
    "Recall that the **range** or **image** of $A \\in \\mathbb{R}^{m \\times n}$ is the set of vectors $y \\in \\mathbb{R}^m$ that can be written as $y=Ax$ for some $x \\in \\mathbb{R}^n$,\n",
    "    \n",
    "$$\n",
    "\\text{im} \\hspace{0.1cm} \\text{A} = \\{ y \\in \\mathbb{R}^m \\mid \\exists x \\in \\mathbb{R}^n, y = Ax \\}\n",
    "$$\n",
    "\n",
    "<div style=\"margin: 20px; border: 1px solid black; padding: 20px; text-align:center\">\n",
    "**Problem 1:** Argue that $\\text{im} \\hspace{0.1cm} \\text{A}$ is the space spanned by the columns of $A$.\n",
    "</div>\n",
    "\n",
    "> *Hint:*  Use our \"column view\" of matrix-vector multiplication!"
   ]
  },
  {
   "cell_type": "markdown",
   "metadata": {
    "slideshow": {
     "slide_type": "slide"
    }
   },
   "source": [
    "### Solution 1:  Range and Nullspace\n",
    "\n",
    "<div style=\"margin: 20px; border: 1px solid black; padding: 20px; text-align:center\">\n",
    "**Problem 1:** Argue that $\\text{im} \\hspace{0.1cm} \\text{A}$ is the space spanned by the columns of $A$.\n",
    "</div>\n",
    "\n",
    "Because any $Ax$ is a linear combination of the columns of $A$, any vector $y \\in \\text{im} \\hspace{0.1cm} \\text{A}$ can be written as a linear combination of the columns of $A$,\n",
    "$$\n",
    "y = \\sum_{j=1}^n x_j a_j\n",
    "$$\n",
    "Forming a vector $x \\in \\mathbb{R}^n$ out of these coefficients $x_j$, we have $y = Ax$, and thus $y \\in \\text{im} \\hspace{0.1cm} \\text{A}$."
   ]
  },
  {
   "cell_type": "markdown",
   "metadata": {
    "slideshow": {
     "slide_type": "slide"
    }
   },
   "source": [
    "### Advice:  Matrix-Matrix Multiplication\n",
    "\n",
    "The formula for matrix-matrix multiplication probably scares you a little:\n",
    "\n",
    "> If $A \\in \\mathbb{R}^{\\ell \\times m}$ and $C \\in \\mathbb{R}^{m \\times n}$, then $B = AC \\in \\mathbb{R}^{\\ell \\times n}$ with entries\n",
    "\n",
    "$$\n",
    "b_{ij} = \\sum_{k=1}^m a_{ik} c_{kj}\n",
    "$$"
   ]
  },
  {
   "cell_type": "markdown",
   "metadata": {
    "slideshow": {
     "slide_type": "slide"
    }
   },
   "source": [
    "### Advice:  Matrix-Matrix Multiplication\n",
    "\n",
    "<div style=\"margin: 20px; border: 1px solid black; padding: 20px; text-align:center\">\n",
    "If $B = AC$, then *each column of $B$ is a linear combination of the columns of $A$* with coefficients from the columns of $C$.\n",
    "</div>\n",
    "\n",
    "![Matrix-Matrix Multiplication](images/matrix-matrix-1.png)\n",
    "\n",
    "$$\n",
    "\\boxed{\n",
    "b_j = A c_j\n",
    "}\n",
    "$$"
   ]
  },
  {
   "cell_type": "markdown",
   "metadata": {
    "slideshow": {
     "slide_type": "slide"
    }
   },
   "source": [
    "### Problem 2:  Multiplication by Triangular Matrix\n",
    "\n",
    "<div style=\"margin: 20px; border: 1px solid black; padding: 20px; text-align:center\">\n",
    "**Problem 2:**  Consider $B = AR$, where $R$ an upper-triangular matrix with entires all equal to one on and above the diagonal.  Interpret the columns of $B$ using our new interpretation of matrix multiplication.\n",
    "</div>\n",
    "\n",
    "![Triangular matrix multiplication](images/matrix-triangular-1.png)"
   ]
  },
  {
   "cell_type": "markdown",
   "metadata": {
    "slideshow": {
     "slide_type": "slide"
    }
   },
   "source": [
    "### Solution 2:  Multiplication by Triangular Matrix\n",
    "\n",
    "<div style=\"margin: 20px; border: 1px solid black; padding: 20px; text-align:center\">\n",
    "**Problem 2:**  Consider $B = AR$, where $R$ an upper-triangular matrix with entires all equal to one on and above the diagonal.  Interpret the columns of $B$ using our new interpretation of matrix multiplication.\n",
    "</div>\n",
    "\n",
    "Since $B=AR$, the columns of $B$ are linear combinations of the columns of $A$, with coefficients taken from the columns of $R$.  Because of the diagonal structure of $R$, the $j$th column of $B$ is the sum of the first $j$ columns of $A$:\n",
    "\n",
    "$$\n",
    "b_j = A r_j = \\sum_{k=1}^j a_j\n",
    "$$"
   ]
  },
  {
   "cell_type": "markdown",
   "metadata": {
    "slideshow": {
     "slide_type": "slide"
    }
   },
   "source": [
    "### Advice:  Conclusion\n",
    "\n",
    "> If you hadn't seen these interpretations before, they may seem a little strange.  Keep at it!  Thinking about linear algebra in this way will help a lot in the long run.\n"
   ]
  },
  {
   "cell_type": "markdown",
   "metadata": {
    "slideshow": {
     "slide_type": "slide"
    }
   },
   "source": [
    "## Hands-on Exercises"
   ]
  },
  {
   "cell_type": "markdown",
   "metadata": {},
   "source": [
    "### Review:  Matrix Transposition\n",
    "\n",
    "Recall that the **transpose** of $A \\in \\mathbb{R}^{m \\times n}$ is $A^T \\in \\mathbb{R}^{n \\times m}$ with indeces \"flipped\",\n",
    "$$\n",
    "(A^T)_{ij} = A_{ji}\n",
    "$$\n",
    "\n",
    "* Transposition flips entries across the diagonal\n",
    "* Transposition turns rows into columns and vice-versa\n",
    "* A matrix is **symmetric** if $A^T = A$."
   ]
  },
  {
   "cell_type": "markdown",
   "metadata": {
    "slideshow": {
     "slide_type": "slide"
    }
   },
   "source": [
    "### Problem 3.1:  Matrix Transpose\n",
    "\n",
    "<div style=\"margin: 20px; border: 1px solid black; padding: 20px; text-align:center\">\n",
    "**Problem 3.1:**  Let $A$ and $B$ be two matrices compatible with multiplication.  Is it true that $AB = A^T B^T$?  Either prove or give a counterexample.\n",
    "</div>"
   ]
  },
  {
   "cell_type": "markdown",
   "metadata": {
    "slideshow": {
     "slide_type": "slide"
    }
   },
   "source": [
    "### Solution 3.1:  Matrix Transpose\n",
    "\n",
    "<div style=\"margin: 20px; border: 1px solid black; padding: 20px; text-align:center\">\n",
    "**Problem 3.1:**  Let $A, B \\in \\mathbb{R}^{n \\times n}$  Is it true that $AB = A^T B^T$?  Either prove it or give a counterexample.\n",
    "</div>\n",
    "\n",
    "False.  Let $A \\in \\mathbb{R}^{n \\times n}$ be any square matrix and $B = I$ be the identity.  Unless $A$ is symmetric, then $AB = A \\neq A^T = A^TB^T$.  There are plenty of asymmetric matrices!  For example,\n",
    "\n",
    "$$\n",
    "A = \\begin{bmatrix}\n",
    "1 & 2 \\\\ 3 & 4\n",
    "\\end{bmatrix}\n",
    "$$"
   ]
  },
  {
   "cell_type": "markdown",
   "metadata": {
    "slideshow": {
     "slide_type": "slide"
    }
   },
   "source": [
    "### Problem 3.2:  Matrix Transpose\n",
    "\n",
    "<div style=\"margin: 20px; border: 1px solid black; padding: 20px; text-align:center\">\n",
    "**Problem 3.2:**  Is it true that $(AB)^T = B^T A^T$?  Either prove it or give a counterexample.\n",
    "</div>"
   ]
  },
  {
   "cell_type": "markdown",
   "metadata": {
    "slideshow": {
     "slide_type": "slide"
    }
   },
   "source": [
    "### Solution 3.2:  Matrix Transpose\n",
    "\n",
    "<div style=\"margin: 20px; border: 1px solid black; padding: 20px; text-align:center\">\n",
    "**Problem 3.2:**  Is it true that $(AB)^T = B^T A^T$?  Either prove it or give a counterexample.\n",
    "</div>\n",
    "\n",
    "True!  Assume $A \\in \\mathbb{R}^{m \\times p}, B \\in \\mathbb{R}^{p \\times n}$.  After verifying that the matrix dimensions match up, we can verify it the brute-force way,\n",
    "\n",
    "$$\n",
    "\\begin{aligned}\n",
    "[(AB)^T]_{ij} &= [AB]_{ji} = \\sum_{k=1}^p a_{jk} b_{ki} \\\\\n",
    "[B^TA^T]_{ij} &= \\sum_{k=1}^p [B^T]_{ik} [A^T]_{kj}\n",
    "               = \\sum_{k=1}^p a_{jk} b_{ki}\n",
    "\\end{aligned}\n",
    "$$\n",
    "\n",
    "> Try to interpret this result using what we've learned about matrix-vector products!"
   ]
  },
  {
   "cell_type": "markdown",
   "metadata": {
    "slideshow": {
     "slide_type": "slide"
    }
   },
   "source": [
    "### Problem 3.3:  Matrix Transpose\n",
    "\n",
    "<div style=\"margin: 20px; border: 1px solid black; padding: 20px; text-align:center\">\n",
    "**Problem 3.3:** Prove that $A+A^T$, $A^TA$, and $AA^T$ are all symmetric.\n",
    "</div>"
   ]
  },
  {
   "cell_type": "markdown",
   "metadata": {
    "slideshow": {
     "slide_type": "slide"
    }
   },
   "source": [
    "### Solution 3.3:  Matrix Transpose\n",
    "\n",
    "<div style=\"margin: 20px; border: 1px solid black; padding: 20px; text-align:center\">\n",
    "**Problem 3.3:** Prove that $A+A^T$, $A^TA$, and $AA^T$ are all symmetric.\n",
    "</div>\n",
    "\n",
    "Verify the first one elementwise:\n",
    "\n",
    "1.  $[(A+A^T)^T]_{ij} = [A + A^T]_{ji} = [A]_{ij} + [A]_{ji} = [A+A^T]_{ij}$\n",
    "\n",
    "Use Problem 3.2 to solve the other two:\n",
    "\n",
    "2. $(A^T A)^T = A^T (A^T)^T = A^T A$\n",
    "3. $(A A^T)^T = (A^T)^T A^T = A A^T $"
   ]
  },
  {
   "cell_type": "markdown",
   "metadata": {
    "slideshow": {
     "slide_type": "slide"
    }
   },
   "source": [
    "### Problem 4: Matrix Inverse\n",
    "\n",
    "<div style=\"margin: 20px; border: 1px solid black; padding: 20px; text-align:center\">\n",
    "**Problem 4:** Let $A$ and $B$ be two $n \\times n$ matrices. Prove, or find a counterexample, to the statement that\n",
    "$$\n",
    "(AB)^{-1} = B^{-1} A^{-1}\n",
    "$$\n",
    "</div>"
   ]
  },
  {
   "cell_type": "markdown",
   "metadata": {
    "slideshow": {
     "slide_type": "slide"
    }
   },
   "source": [
    "### Solution 4: Matrix Inverse\n",
    "\n",
    "<div style=\"margin: 20px; border: 1px solid black; padding: 20px; text-align:center\">\n",
    "**Problem 4:** Let $A$ and $B$ be two $n \\times n$ matrices. Prove, or find a counterexample, to the statement that\n",
    "$$\n",
    "(AB)^{-1} = B^{-1} A^{-1}\n",
    "$$\n",
    "</div>\n",
    "\n",
    "**Solution 4:** Recall that, for any matrix $M$, the inverse $M^{-1}$ is the unique matrix such that $MM^{-1} = I$, the identity matrix.\n",
    "\n",
    "...\n"
   ]
  },
  {
   "cell_type": "markdown",
   "metadata": {
    "slideshow": {
     "slide_type": "slide"
    }
   },
   "source": [
    "### Problem 4:  Infinity Norm\n",
    "\n",
    "<div style=\"margin: 20px; border: 1px solid black; padding: 20px; text-align:center\">\n",
    "**Problem 4:** Prove that the infinity norm $||x||_\\infty = \\max_k |x_k|$ is indeed a norm for $x \\in \\mathbb{R}^n$.\n",
    "</div>\n",
    "\n",
    "Recall that $|| \\cdot || : \\mathbb{R}^n \\rightarrow \\mathbb{R}$ is a norm if and only if for all $x,y \\in \\mathbb{R}^n$ and $\\alpha \\in \\mathbb{R}$,\n",
    "1. $|| x || \\geq 0$\n",
    "2. $||x||=0$ if and only if $x = 0$.\n",
    "2. $|| \\alpha x || = |\\alpha| ||x||$ (Homogeneity)\n",
    "4. $|| x + y || \\leq ||x|| + ||y||$ (Triangle Inequality)"
   ]
  }
 ],
 "metadata": {
  "anaconda-cloud": {},
  "celltoolbar": "Slideshow",
  "kernelspec": {
   "display_name": "Python 2",
   "language": "python",
   "name": "python2"
  },
  "language_info": {
   "codemirror_mode": {
    "name": "ipython",
    "version": 2
   },
   "file_extension": ".py",
   "mimetype": "text/x-python",
   "name": "python",
   "nbconvert_exporter": "python",
   "pygments_lexer": "ipython2",
   "version": "2.7.11"
  }
 },
 "nbformat": 4,
 "nbformat_minor": 0
}
