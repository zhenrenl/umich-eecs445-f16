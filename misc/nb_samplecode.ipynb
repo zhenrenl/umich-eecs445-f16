{
 "cells": [
  {
   "cell_type": "code",
   "execution_count": 2,
   "metadata": {
    "collapsed": false,
    "scrolled": true
   },
   "outputs": [],
   "source": [
    "import numpy as np\n",
    "import pandas as pd"
   ]
  },
  {
   "cell_type": "code",
   "execution_count": 372,
   "metadata": {
    "collapsed": false
   },
   "outputs": [],
   "source": [
    "# data loading\n",
    "\n",
    "data_train = pd.read_csv(\"spambase.train\", header=None)\n",
    "data_test = pd.read_csv(\"spambase.test\", header=None)\n",
    "\n",
    "def spamdata(data):\n",
    "    \"\"\"returns a tuple (target value, feature values)\"\"\"\n",
    "    D = np.asarray(data, dtype=float)\n",
    "    return np.asarray(D[:,-1], dtype=int), np.asarray(D[:,:-1])\n",
    "\n",
    "t_train, X_train_raw = spamdata(data_train)\n",
    "t_test, X_test_raw = spamdata(data_test)\n"
   ]
  },
  {
   "cell_type": "code",
   "execution_count": 439,
   "metadata": {
    "collapsed": false
   },
   "outputs": [],
   "source": [
    "# pre-processing\n",
    "def preprocess_median(X, median = None):\n",
    "    \"\"\"\n",
    "    If median is None, compute the median and return tuple\n",
    "    \"\"\"\n",
    "    if median is None:\n",
    "        median = np.median(X, axis=0)\n",
    "        return np.asarray(X > median, dtype=int), median\n",
    "    else:\n",
    "        return np.asarray(X > median, dtype=int)\n",
    "\n",
    "\n",
    "# _, medians = preprocess_median(np.concatenate((X_train_raw, X_test_raw)))\n",
    "# X_train = preprocess_median(X_train_raw, medians)\n",
    "# X_test = preprocess_median(X_test_raw, medians)\n",
    "\n",
    "X_train, medians = preprocess_median(X_train_raw)\n",
    "X_test = preprocess_median(X_test_raw, medians)"
   ]
  },
  {
   "cell_type": "code",
   "execution_count": 440,
   "metadata": {
    "collapsed": false
   },
   "outputs": [
    {
     "name": "stdout",
     "output_type": "stream",
     "text": [
      "2 57 2\n"
     ]
    }
   ],
   "source": [
    "# dimension constants\n",
    "M = 2 #our pre-processing fixes every feature to be either 0 or 1.\n",
    "C = 2\n",
    "D = X_train.shape[1]\n",
    "print(C,D,M)"
   ]
  },
  {
   "cell_type": "code",
   "execution_count": 441,
   "metadata": {
    "collapsed": false
   },
   "outputs": [
    {
     "data": {
      "text/plain": [
       "\"it's enough to print m=0 params only, because theta[:,:,1] = 1 - theta[:,:,0]\""
      ]
     },
     "execution_count": 441,
     "metadata": {},
     "output_type": "execute_result"
    }
   ],
   "source": [
    "def train_NB(X, t, C, D, M, alpha = None, beta = None):\n",
    "    \"\"\"\n",
    "    Alpha and beta are Dirichlet prior parameters for *mean* estimate.\n",
    "    \"\"\"\n",
    "    N = t.size\n",
    "    if alpha is None:\n",
    "        alpha = np.zeros(C)\n",
    "    if beta is None:\n",
    "        beta = np.zeros(shape=(C,D,M))\n",
    "    pi = np.zeros(shape=(C))\n",
    "    theta = np.zeros(shape=(C,D,M))\n",
    "    \n",
    "    alpha_sum = np.sum(alpha)\n",
    "    N = t.size\n",
    "    for c in range(C):\n",
    "        indices = t == c\n",
    "        Nc = np.count_nonzero(indices)\n",
    "        pi[c] = (Nc + alpha[c]) / (N + alpha_sum)\n",
    "        for d in range(D):            \n",
    "            counts = np.bincount(X[indices, d], minlength = M)\n",
    "            theta[c,d,:] = (counts + beta[c,d,:]) / (Nc + np.sum(beta[c,d,:]))\n",
    "    return pi, theta\n",
    "\n",
    "# compute the MLE (equivalent to mean estimate with Dirichlet prior parameters all equal to 0)\n",
    "pi0, theta0 = train_NB(X_train, t_train, C, D, M)\n",
    "\n",
    "\"\"\"it's enough to print m=0 params only, because theta[:,:,1] = 1 - theta[:,:,0]\"\"\"\n",
    "# print (pi0, theta0[:,:,0]) "
   ]
  },
  {
   "cell_type": "code",
   "execution_count": 442,
   "metadata": {
    "collapsed": false
   },
   "outputs": [
    {
     "name": "stdout",
     "output_type": "stream",
     "text": [
      "0.108035371011\n"
     ]
    }
   ],
   "source": [
    "def pred_NB(X, pi, theta, returnRatio = False):\n",
    "    \"\"\"\n",
    "    make predictions by comparing the probabilities in the log space.\n",
    "    \"\"\"\n",
    "    D = theta.shape[1]\n",
    "    probs = np.sum(np.log(theta[:,np.arange(D),X]), axis=2).T + np.log(pi)\n",
    "    if returnRatio:\n",
    "        return np.argmax(probs ,axis=1), probs\n",
    "    else:\n",
    "        return np.argmax(probs ,axis=1)\n",
    "def test_NB(X, t, pi, theta):\n",
    "    \"\"\"\n",
    "    returns the error rates\n",
    "    \"\"\"\n",
    "    t_pred = pred_NB(X, pi, theta)\n",
    "    return np.sum(t != t_pred) / t.size\n",
    "\n",
    "print(test_NB(X_test,t_test, pi0, theta0))"
   ]
  },
  {
   "cell_type": "code",
   "execution_count": 504,
   "metadata": {
    "collapsed": false,
    "scrolled": false
   },
   "outputs": [
    {
     "name": "stdout",
     "output_type": "stream",
     "text": [
      "0.109 0.108035371011\n",
      "0.118 0.116493656286\n",
      "[ 0.595  0.405] [ 1.34036042  1.33757106  1.84392643  1.01971762  2.02020039  1.38346964\n",
      "  1.66957349  1.42275858  1.30825918  1.48934707  1.37827067  1.51504473\n",
      "  1.21302237  1.09851069  1.15812934  1.95738295  1.52763714  1.34063968\n",
      "  2.11091076  1.23748971  3.35905723  1.044052    1.43409755  1.5487953\n",
      "  0.63952332  0.7196162   0.73563338  0.85853638  0.88487395  0.85359524\n",
      "  0.90138531  0.93086987  0.90785317  0.93317972  0.86006761  0.88802938\n",
      "  0.78936601  1.00467914  0.91625616  1.0210084   0.95243635  0.89024095\n",
      "  0.92826899  0.91268086  0.98845451  0.87502555  0.98799072  0.94279451\n",
      "  0.95765579  0.95979687  0.91841039  4.22989196  2.27738946  1.27043283\n",
      "  2.79561825  2.97530971  2.5095814 ]\n",
      "[    7.32039868     6.75791392     5.88449212    21.11422094     5.25119625\n",
      "     6.44054598     4.39156122     5.6596771      6.48876115     6.45868566\n",
      "     5.55908975     9.13826886     8.95583405    11.06382076     6.97859496\n",
      "     4.54488713     5.47099351     7.1430457      5.91007434     6.05394656\n",
      "     4.57864225    13.81573964     5.01771299     4.66927827     4.77720762\n",
      "     5.10334233     5.19812744     7.336567       7.90929468     6.8117968\n",
      "     7.70364017     9.15077611    10.69402947     9.76590751     7.54335621\n",
      "    11.05081        6.89214275   397.12532264    11.37111562    98.76064915\n",
      "    10.7434349      8.19978751    13.45609486     9.468899    2036.04662746\n",
      "     8.75277223    43.52316802    10.93047635    47.77837571   234.59933265\n",
      "    14.64801364     4.23012011     4.3045604      7.21513095     4.96774745\n",
      "     4.70299314     5.26480669]\n"
     ]
    }
   ],
   "source": [
    "from sklearn.metrics import mutual_info_score, normalized_mutual_info_score\n",
    "\n",
    "def calc_MI(x, y, bins):\n",
    "    c_xy = np.histogram2d(x, y, (bins,2))[0]\n",
    "    print(c_xy.shape)\n",
    "    mi = mutual_info_score(None, None, contingency=c_xy)\n",
    "    return mi\n",
    "\n",
    "mutual_info = np.asarray([mutual_info_score(t_train,X_train[:,i]) for i in range(D)], dtype=np.float64)\n",
    "\n",
    "mut = np.exp(1.0/mutual_info ** 0.2) #unnormalized: 0.143\n",
    "# mut = 10.0 / ((mutual_info) ** 0.25) #unnormalized: 0.143\n",
    "\n",
    "# print(mut)\n",
    "beta = np.tile(np.tile(mut, (M, 1)).T, (C,1,1))\n",
    "pi0, theta0 = train_NB(X_train, t_train, C, D, M)\n",
    "pi1, theta1 = train_NB(X_train, t_train, C, D, M, alpha = np.ones(C),beta = np.ones((C,D,M)))\n",
    "pi2, theta2 = train_NB(X_train, t_train, C, D, M, alpha = np.ones(C),beta = beta)\n",
    "\n",
    "print(test_NB(X_train, t_train,pi0, theta0), test_NB(X_test, t_test,pi0, theta0))\n",
    "print(test_NB(X_train, t_train,pi2, theta2), test_NB(X_test, t_test,pi2, theta2))\n",
    "print(pi0, theta0[0,:,0] / theta0[1,:,0])\n",
    "# print(pi2, theta2[0,:,0] / theta2[1,:,0])\n",
    "print(mut)\n",
    "\n"
   ]
  },
  {
   "cell_type": "code",
   "execution_count": 505,
   "metadata": {
    "collapsed": false
   },
   "outputs": [
    {
     "data": {
      "image/png": "[encoded data removed]",
      "text/plain": [
       "<matplotlib.figure.Figure at 0x105a4dcf8>"
      ]
     },
     "metadata": {},
     "output_type": "display_data"
    }
   ],
   "source": [
    "\n",
    "import matplotlib.pyplot as plt\n",
    "\n",
    "plt.scatter(np.abs(np.log(theta0[0,:,0] / theta0[1,:,0])), mutual_info)\n",
    "\n",
    "plt.scatter(np.abs(np.log(theta0[0,:,1] / theta0[1,:,1])), mutual_info, color='red')\n",
    "\n",
    "plt.show()"
   ]
  },
  {
   "cell_type": "code",
   "execution_count": null,
   "metadata": {
    "collapsed": true
   },
   "outputs": [],
   "source": []
  }
 ],
 "metadata": {
  "anaconda-cloud": {},
  "kernelspec": {
   "display_name": "Python [default]",
   "language": "python",
   "name": "python3"
  },
  "language_info": {
   "codemirror_mode": {
    "name": "ipython",
    "version": 3
   },
   "file_extension": ".py",
   "mimetype": "text/x-python",
   "name": "python",
   "nbconvert_exporter": "python",
   "pygments_lexer": "ipython3",
   "version": "3.5.2"
  }
 },
 "nbformat": 4,
 "nbformat_minor": 1
}
