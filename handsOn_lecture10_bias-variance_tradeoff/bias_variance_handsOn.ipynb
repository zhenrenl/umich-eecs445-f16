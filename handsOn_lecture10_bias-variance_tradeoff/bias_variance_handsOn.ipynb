{
 "cells": [
  {
   "cell_type": "markdown",
   "metadata": {
    "slideshow": {
     "slide_type": "slide"
    }
   },
   "source": [
    "# EECS 445: Machine Learning\n",
    "\n",
    "## Hands On 10: Bias Variance Tradeoff\n",
    "\n",
    "Consider a sequence of IID random variable: \n",
    "$$\n",
    "X_i =\n",
    "\\begin{cases}\n",
    "100 & \\text{ with prob. } 0.02 \\\\\n",
    "0 & \\text{ with prob. } 0.97 \\\\\n",
    "-100 & \\text{ with prob. } 0.01 \\\\\n",
    "\\end{cases}\n",
    "$$\n",
    "The true mean of $X_i$ is \n",
    "$$\n",
    "0.02 \\times 100 + 0.97 \\times 0 + 0.01 \\times -100 = 1\n",
    "$$\n",
    "\n",
    "We want to estimate the true mean of this distribution. We will consider two different estimators of the true mean.\n",
    "Let's say you take three samples $X_1, X_2, X_3$, and you compute the **empirical mean** $Z=\\frac{X_1 + X_2 + X_3}{3}$ and **empirical median** $Y$ of these three samples (recall that the median is obtained by sorting $X_1, X_2, X_3$ and then choosing the middle (2nd) entry).\n",
    "\n"
   ]
  },
  {
   "cell_type": "markdown",
   "metadata": {
    "slideshow": {
     "slide_type": "slide"
    }
   },
   "source": [
    "### What is the bias-variance tradeoff of the  $Y$ and $Z$ for estimating the true mean of the above distribution?\n",
    "\n",
    "* They are both unbiased estimators of the true mean, and have the same variance.\n",
    "* The median has higher bias and higher variance.\n",
    "* The mean has higher bias and higher variance.\n",
    "* They both have no bias, but the mean has lower variance.\n",
    "* The mean has no bias but some variance, and the median has non-zero bias but less variance\n",
    "\n"
   ]
  },
  {
   "cell_type": "markdown",
   "metadata": {
    "slideshow": {
     "slide_type": "slide"
    }
   },
   "source": [
    "## Activity 1: Bias Variance Tradeoff\n",
    "We will now see try to see the inherent tradeoff between bias and variance of estimators through linear regression. Consider the following dataset. "
   ]
  },
  {
   "cell_type": "code",
   "execution_count": 8,
   "metadata": {
    "collapsed": false
   },
   "outputs": [],
   "source": [
    "import numpy as np\n",
    "import matplotlib.pyplot as plt\n",
    "from numpy.matlib import repmat\n",
    "\n",
    "degrees = [1,2,3,4,5]\n",
    "\n",
    "\n",
    "#define data\n",
    "n = 20\n",
    "sub = 1000\n",
    "mean = 0\n",
    "std = 0.25\n",
    "\n",
    "#define test set\n",
    "Xtest = np.random.random((n,1))*2*np.pi\n",
    "ytest = np.sin(Xtest) + np.random.normal(mean,std,(n,1))\n",
    "\n",
    "#pre-allocate variables\n",
    "preds = np.zeros((n,sub))\n",
    "bias = np.zeros(len(degrees))\n",
    "variance = np.zeros(len(degrees))\n",
    "mse = np.zeros(len(degrees))\n",
    "values = np.expand_dims(np.linspace(0,2*np.pi,100),1)\n"
   ]
  },
  {
   "cell_type": "markdown",
   "metadata": {},
   "source": [
    "Let's try several polynomial fits to the data:\n"
   ]
  },
  {
   "cell_type": "code",
   "execution_count": null,
   "metadata": {
    "collapsed": true
   },
   "outputs": [],
   "source": [
    "for j,degree in enumerate(degrees):\n",
    "    \n",
    "    for i in range(sub):\n",
    "            \n",
    "        #create data - sample from sine wave     \n",
    "        x = np.random.random((n,1))*2*np.pi\n",
    "        y = np.sin(x) + np.random.normal(mean,std,(n,1))\n",
    "        \n",
    "        #TODO\n",
    "        #create features corresponding to degree - ex: 1, x, x^2, x^3...\n",
    "        A = \n",
    "        \n",
    "        #TODO:        \n",
    "        #fit model using least squares solution (linear regression)\n",
    "        #later include ridge regression/normalization\n",
    "        coeffs = \n",
    "                \n",
    "        #store predictions for each sampling\n",
    "        preds[:,i] = poly.fit_transform(Xtest).dot(coeffs)[:,0]\n",
    "        \n",
    "        #plot 9 images\n",
    "        if i < 9:\n",
    "            plt.subplot(3,3,i+1)\n",
    "            plt.plot(values,poly.fit_transform(values).dot(coeffs),x,y,'.b')\n",
    "\n",
    "    plt.axis([0,2*np.pi,-2,2])\n",
    "    plt.suptitle('PolyFit = %i' % (degree))\n",
    "    plt.show()\n",
    "\n",
    "    #TODO\n",
    "    #Calculate mean bias, variance, and MSE (UNCOMMENT CODE BELOW!)\n",
    "    #bias[j] = \n",
    "    #variance[j] = \n",
    "    #mse[j] = \n"
   ]
  },
  {
   "cell_type": "markdown",
   "metadata": {},
   "source": [
    "Let's plot the data with the estimators! "
   ]
  },
  {
   "cell_type": "code",
   "execution_count": null,
   "metadata": {
    "collapsed": true
   },
   "outputs": [],
   "source": [
    "plt.subplot(3,1,1)\n",
    "plt.plot(degrees,bias)\n",
    "plt.title('bias')\n",
    "plt.subplot(3,1,2)\n",
    "plt.plot(degrees,variance)\n",
    "plt.title('variance')\n",
    "plt.subplot(3,1,3)\n",
    "plt.plot(degrees,mse)\n",
    "plt.title('MSE')\n",
    "plt.show()"
   ]
  }
 ],
 "metadata": {
  "anaconda-cloud": {},
  "celltoolbar": "Slideshow",
  "kernelspec": {
   "display_name": "Python [default]",
   "language": "python",
   "name": "python3"
  },
  "language_info": {
   "codemirror_mode": {
    "name": "ipython",
    "version": 3
   },
   "file_extension": ".py",
   "mimetype": "text/x-python",
   "name": "python",
   "nbconvert_exporter": "python",
   "pygments_lexer": "ipython3",
   "version": "3.5.2"
  }
 },
 "nbformat": 4,
 "nbformat_minor": 0
}
