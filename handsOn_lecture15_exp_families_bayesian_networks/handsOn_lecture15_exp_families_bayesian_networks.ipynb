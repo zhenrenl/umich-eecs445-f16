{
 "cells": [
  {
   "cell_type": "markdown",
   "metadata": {
    "slideshow": {
     "slide_type": "skip"
    }
   },
   "source": [
    "$$ \\LaTeX \\text{ command declarations here.}\n",
    "\\newcommand{\\R}{\\mathbb{R}}\n",
    "\\renewcommand{\\vec}[1]{\\mathbf{#1}}\n",
    "\\newcommand{\\X}{\\mathcal{X}}\n",
    "\\newcommand{\\D}{\\mathcal{D}}\n",
    "\\newcommand{\\G}{\\mathcal{G}}\n",
    "\\newcommand{\\Parents}{\\mathrm{Parents}}\n",
    "\\newcommand{\\NonDesc}{\\mathrm{NonDesc}}\n",
    "\\newcommand{\\I}{\\mathcal{I}}\n",
    "$$"
   ]
  },
  {
   "cell_type": "markdown",
   "metadata": {
    "slideshow": {
     "slide_type": "slide"
    }
   },
   "source": [
    "## Exponential Family Distributions\n",
    "\n",
    "**DEF:** $p(x | \\theta)$ has **exponential family form** if:\n",
    "$$\n",
    "\\begin{align}\n",
    "p(x | \\theta)\n",
    "&= \\frac{1}{Z(\\theta)} h(x) \\exp\\left[ \\eta(\\theta)^T \\phi(x) \\right] \\\\\n",
    "&= h(x) \\exp\\left[ \\eta(\\theta)^T \\phi(x) - A(\\theta) \\right]\n",
    "\\end{align}\n",
    "$$\n",
    "\n",
    "\n",
    "- $Z(\\theta)$ is the **partition function** for normalization\n",
    "- $A(\\theta) = \\log Z(\\theta)$ is the **log partition function**\n",
    "- $\\phi(x) \\in \\R^d$ is a vector of **sufficient statistics**\n",
    "- $\\eta(\\theta)$ maps $\\theta$ to a set of **natural parameters**\n",
    "- $h(x)$ is a scaling constant, usually $h(x)=1$"
   ]
  },
  {
   "cell_type": "markdown",
   "metadata": {
    "slideshow": {
     "slide_type": "slide"
    }
   },
   "source": [
    "### Problem:  Bernoulli in exponential family form\n",
    "\n",
    "As mentioned in lecture, the *Bernoulli* distribution can be described in expontial family form:\n",
    "$$\n",
    "\\begin{align}\n",
    "\\mathrm{Ber}(x | \\mu)\n",
    "&= \\mu^x (1-\\mu)^{1-x} \\\\ \n",
    "&= (1-\\mu) \\exp\\left[ x \\log\\frac{\\mu}{1-\\mu} \\right]\n",
    "\\end{align}\n",
    "$$\n",
    "\n",
    "This gives **natural parameters** $\\eta = \\log \\frac{\\mu}{1-\\mu}$.\n",
    "\n",
    "**Problem**: What is the log partition function $A(\\eta)$?"
   ]
  },
  {
   "cell_type": "markdown",
   "metadata": {
    "slideshow": {
     "slide_type": "slide"
    }
   },
   "source": [
    "## Problem: Guassian Distribution in exp family form\n",
    "\n",
    "Recall that the gaussian distribution can be written as\n",
    "$$p(x \\mid \\mu, \\sigma^2) = \\frac{1}{\\sqrt{2 \\pi \\sigma^2}} \\exp\\left(-\\frac{(\\mu-x)^2}{2 \\sigma^2} \\right)$$\n",
    "\n",
    "**Problem**: Write this in exponential family form. Questions:\n",
    "1. What is $\\phi(x)$?\n",
    "1. What is the parameterization $\\eta(\\mu,\\sigma^2)$?\n",
    "1. What is the log-partition $A(\\eta)$?"
   ]
  },
  {
   "cell_type": "markdown",
   "metadata": {
    "slideshow": {
     "slide_type": "slide"
    }
   },
   "source": [
    "## Magic of the log partition function\n",
    "\n",
    "Derivatives of the **log-partition function** $A(\\theta)$ yield **cumulants** of the sufficient statistics:\n",
    "- $\\nabla_\\theta A(\\theta) = E[\\phi(x)]$\n",
    "- $\\nabla^2_\\theta A(\\theta) = \\text{Cov}[ \\phi(x) ]$\n",
    "\n",
    "**Problem**: Prove the first statement using calculus.\n",
    "\n",
    "*Hint*: While this fact isn't always true, in this case you can use the following:\n",
    "$$\\nabla_\\theta \\left( \\int f(x,\\theta) dx \\right) =  \\int \\nabla_\\theta f(x,\\theta) dx$$"
   ]
  },
  {
   "cell_type": "markdown",
   "metadata": {
    "slideshow": {
     "slide_type": "slide"
    }
   },
   "source": [
    "## Problem: Conditional independence in PGMs\n",
    "\n",
    "<img src=\"basic_three.png\">\n",
    "\n",
    "**Which of the following are true?**:\n",
    "1. $P(C,B|A) = P(C|A) P(B |A)$\n",
    "2. $P(C,B) = P(C) P(B)$\n",
    "\n",
    "Prove your answer!"
   ]
  },
  {
   "cell_type": "markdown",
   "metadata": {
    "slideshow": {
     "slide_type": "slide"
    }
   },
   "source": [
    "## Problem: Conditional independence in PGMs\n",
    "\n",
    "<img src=\"basic_three2.png\">\n",
    "\n",
    "**Which of the following are true?**:\n",
    "1. $P(C,B|A) = P(C|B,A)$\n",
    "2. $P(C,B) = P(C) P(B)$\n",
    "\n",
    "Prove your answer!"
   ]
  },
  {
   "cell_type": "markdown",
   "metadata": {
    "slideshow": {
     "slide_type": "slide"
    }
   },
   "source": [
    "## Bayesian Networks\n",
    "\n",
    "Let's consider a bayesian network representing different factors that determine whether you make it to class on time:\n",
    "\n",
    "<a href=\"https://www.youtube.com/watch?v=_Tr8KRqyGJk\">\n",
    "<img src=\"ontime.png\">\n",
    "</a>\n",
    "\n",
    "\n"
   ]
  },
  {
   "cell_type": "markdown",
   "metadata": {},
   "source": [
    "### Exercise: express joint distribution in terms of product of factors\n",
    "\n",
    "Express the joint distribution of this network using the chain rule.\n",
    "\n",
    "P(W,R,T,S,B,C) = ...\n",
    "\n",
    "*your answer goes here*"
   ]
  },
  {
   "cell_type": "code",
   "execution_count": 1,
   "metadata": {
    "collapsed": false,
    "slideshow": {
     "slide_type": "skip"
    }
   },
   "outputs": [
    {
     "data": {
      "text/html": [
       "<style>\n",
       "div.probs table {\n",
       "    float:left;\n",
       "    margin-left: 1em;\n",
       "    margin-top: 1em;\n",
       "}\n",
       "\n",
       "div.probs br.clear {\n",
       "    clear:both;\n",
       "}\n",
       "</style>"
      ],
      "text/plain": [
       "<IPython.core.display.HTML object>"
      ]
     },
     "metadata": {},
     "output_type": "display_data"
    }
   ],
   "source": [
    "%%html\n",
    "<style>\n",
    "div.probs table {\n",
    "    float:left;\n",
    "    margin-left: 1em;\n",
    "    margin-top: 1em;\n",
    "}\n",
    "\n",
    "div.probs br.clear {\n",
    "    clear:both;\n",
    "}\n",
    "</style>\n"
   ]
  },
  {
   "cell_type": "markdown",
   "metadata": {
    "slideshow": {
     "slide_type": "slide"
    }
   },
   "source": [
    "### Computing Probabilities\n",
    "\n",
    "Assuming the (conditional) distributions are as follows:\n",
    "\n",
    "<div class=probs>\n",
    "\n",
    "<table>\n",
    "<tr>\n",
    "<th>$w^0$</th>\n",
    "<th>$w^1$</th>\n",
    "</tr>\n",
    "<tr>\n",
    "<td>0.2</td>\n",
    "<td>0.8</td>\n",
    "</tr>\n",
    "</table>\n",
    "\n",
    "<table>\n",
    "<tr>\n",
    "<th>$r^0$</th>\n",
    "<th>$r^1$</th>\n",
    "</tr>\n",
    "<tr>\n",
    "<td>0.68</td>\n",
    "<td>0.32</td>\n",
    "</tr>\n",
    "</table>\n",
    "\n",
    "<table>\n",
    "<tr>\n",
    "<th>$t^0$</th>\n",
    "<th>$t^1$</th>\n",
    "</tr>\n",
    "<tr>\n",
    "<td>0.85</td>\n",
    "<td>0.15</td>\n",
    "</tr>\n",
    "</table>\n",
    "\n",
    "<br class=\"clear\">\n",
    "\n",
    "<table>\n",
    "<tr>\n",
    "<th></th>\n",
    "<th>$s^0$</th>\n",
    "<th>$s^1$</th>\n",
    "</tr>\n",
    "<tr>\n",
    "<td>$w^0$, $r^0$</td><td>0.4</td><td>0.6</td>\n",
    "</tr>\n",
    "<tr>\n",
    "<td>$w^0$, $r^1$</td><td>0.9</td><td>0.1</td>\n",
    "</tr>\n",
    "<tr>\n",
    "<td>$w^1$, $r^0$</td><td>0.05</td><td>0.95</td>\n",
    "</tr>\n",
    "<tr>\n",
    "<td>$w^1$, $r^1$</td><td>0.3</td><td>0.7</td>\n",
    "</tr>\n",
    "</table>\n",
    "\n",
    "<table>\n",
    "<tr>\n",
    "<th><th>$b^0$</th><th>$b^1$</th>\n",
    "</tr>\n",
    "<tr>\n",
    "<td>$t^0$</td><td>0.15</td><td>0.85</td>\n",
    "</tr>\n",
    "<tr>\n",
    "<td>$t^1$</td><td>0.7<td>0.3</td>\n",
    "</tr>\n",
    "</table>\n",
    "\n",
    "<br class=\"clear\">\n",
    "\n",
    "<table>\n",
    "<tr>\n",
    "<th></th>\n",
    "<th>$c^0$</th>\n",
    "<th>$c^1$</th>\n",
    "</tr>\n",
    "<tr>\n",
    "<td>$s^0$, $b^0$</td><td>0.4</td><td>0.6</td>\n",
    "</tr>\n",
    "<tr>\n",
    "<td>$s^0$, $b^1$</td><td>0.9</td><td>0.1</td>\n",
    "</tr>\n",
    "<tr>\n",
    "<td>$s^1$, $b^0$</td><td>0.05</td><td>0.95</td>\n",
    "</tr>\n",
    "<tr>\n",
    "<td>$s^1$, $b^1$</td><td>0.1</td><td>0.9</td>\n",
    "</tr>\n",
    "</table>\n",
    "\n",
    "</div>"
   ]
  },
  {
   "cell_type": "markdown",
   "metadata": {
    "collapsed": true,
    "slideshow": {
     "slide_type": "slide"
    }
   },
   "source": [
    "What is the probability you wake up on time, your roomate takes a long shower, there's bad traffic, you and the bus are both late to the bus stop and you make it to class on time?\n",
    "\n",
    "*your answer goes here*\n",
    "\n",
    "### Exercise: Marginalizatioin\n",
    "\n",
    "What is the probability that you get to the bus stop on time given you wake up on time?\n",
    "\n",
    "*your answer goes here*\n",
    "\n",
    "### Exercise: v-structure\n",
    "\n",
    "What is the probability that you get to the bus stop on time given that you make it to class on time? $P(S|C)$\n",
    "\n",
    "What is the probability that you get to the bus stop on time given that you make it to class on time and bus arrives on time? $P(S|C,B)$"
   ]
  },
  {
   "cell_type": "code",
   "execution_count": null,
   "metadata": {
    "collapsed": true
   },
   "outputs": [],
   "source": []
  }
 ],
 "metadata": {
  "anaconda-cloud": {},
  "celltoolbar": "Slideshow",
  "kernelspec": {
   "display_name": "Python [conda root]",
   "language": "python",
   "name": "conda-root-py"
  },
  "language_info": {
   "codemirror_mode": {
    "name": "ipython",
    "version": 3
   },
   "file_extension": ".py",
   "mimetype": "text/x-python",
   "name": "python",
   "nbconvert_exporter": "python",
   "pygments_lexer": "ipython3",
   "version": "3.5.2"
  }
 },
 "nbformat": 4,
 "nbformat_minor": 1
}
