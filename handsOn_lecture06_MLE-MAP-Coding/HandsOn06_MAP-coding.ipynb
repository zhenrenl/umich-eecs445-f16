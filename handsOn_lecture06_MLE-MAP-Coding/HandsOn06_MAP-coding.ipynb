{
 "cells": [
  {
   "cell_type": "code",
   "execution_count": 1,
   "metadata": {
    "collapsed": true,
    "slideshow": {
     "slide_type": "skip"
    }
   },
   "outputs": [],
   "source": [
    "%matplotlib inline"
   ]
  },
  {
   "cell_type": "markdown",
   "metadata": {
    "slideshow": {
     "slide_type": "skip"
    }
   },
   "source": [
    "$$ \\LaTeX \\text{ command declarations here.}\n",
    "\\newcommand{\\N}{\\mathcal{N}}\n",
    "\\newcommand{\\R}{\\mathbb{R}}\n",
    "\\renewcommand{\\vec}[1]{\\mathbf{#1}}\n",
    "\\newcommand{\\norm}[1]{\\|#1\\|_2}\n",
    "\\newcommand{\\d}{\\mathop{}\\!\\mathrm{d}}\n",
    "\\newcommand{\\qed}{\\qquad \\mathbf{Q.E.D.}}\n",
    "\\newcommand{\\vx}{\\mathbf{x}}\n",
    "\\newcommand{\\vy}{\\mathbf{y}}\n",
    "\\newcommand{\\vt}{\\mathbf{t}}\n",
    "\\newcommand{\\vb}{\\mathbf{b}}\n",
    "\\newcommand{\\vw}{\\mathbf{w}}\n",
    "$$"
   ]
  },
  {
   "cell_type": "markdown",
   "metadata": {
    "slideshow": {
     "slide_type": "slide"
    }
   },
   "source": [
    "# EECS 445:  Machine Learning\n",
    "## Hands On 05:  Linear Regression II\n",
    "* Instructor:  **Zhao Fu, Valli, Jacob Abernethy and Jia Deng**\n",
    "* Date:  September 26, 2016"
   ]
  },
  {
   "cell_type": "markdown",
   "metadata": {
    "slideshow": {
     "slide_type": "slide"
    }
   },
   "source": [
    "### Problem 1a: MAP estimation for Linear Regression with unusual Prior\n",
    "Assume we have $n$ vectors $\\vec{x}_1, \\cdots, \\vec{x}_n$. We also assume that for each $\\vec{x}_i$ we have observed a *target* value $t_i$, where\n",
    "$$\n",
    "\\begin{gather}\n",
    "t_i = \\vec{w}^T \\vec{x_i} + \\epsilon \\\\ \n",
    "\\epsilon \\sim \\mathcal{N}(0, \\beta^{-1})\n",
    "\\end{gather}\n",
    "$$\n",
    "where $\\epsilon$ is the \"noise term\".\n",
    "\n",
    "(a) Quick quiz: what is the likelihood *given* $\\vec{w}$? That is, what's $p(t_i | \\vec{x}_i, \\vec{w})$?"
   ]
  },
  {
   "cell_type": "markdown",
   "metadata": {
    "slideshow": {
     "slide_type": "fragment"
    }
   },
   "source": [
    "**Answer**: $p(t_i | \\vec{x}_i, \\vec{w}) = \\mathcal{N}(t_i|\\vec{w}^\\top \\vec{x_i}, \\beta^{-1}) = \\frac{1}{(2\\pi \\beta^{-1})^\\frac{1}{2}} \\exp{(-\\frac{\\beta}{2}(t_i - \\vec{w}^\\top \\vec{x_i})^2)}$"
   ]
  },
  {
   "cell_type": "markdown",
   "metadata": {
    "slideshow": {
     "slide_type": "slide"
    }
   },
   "source": [
    "### Problem 1: MAP estimation for Linear Regression with unusual Prior\n",
    "Assume we have $n$ vectors $\\vec{x}_1, \\cdots, \\vec{x}_n$. We also assume that for each $\\vec{x}_i$ we have observed a *target* value $t_i$, sampled IID. We will also put a *prior* on $\\vec{w}$, using PSD matrix $\\Sigma$.\n",
    "$$\n",
    "\\begin{gather}\n",
    "t_i = \\vec{w}^T \\vec{x_i} + \\epsilon \\\\ \n",
    "\\epsilon \\sim \\mathcal{N}(0, \\beta^{-1}) \\\\\n",
    "\\vec{w} \\sim \\mathcal{N}(0, \\Sigma)\n",
    "\\end{gather}\n",
    "$$\n",
    "Note: the difference here is that our prior is a multivariate gaussian with *non-identity* covariance! Also we let $\\mathcal{X} = \\{\\vec{x}_1, \\cdots, \\vec{x}_n\\}$\n",
    "\n",
    "(a) Compute the log posterior function, $\\log p(\\vec{w}|\\vec{t}, \\mathcal{X},\\beta)$\n",
    "\n",
    "*Hint*: use Bayes' Rule\n",
    "\n",
    "(b) Compute the MAP estimate of $\\vec{w}$ for this model\n",
    "\n",
    "*Hint*: the solution is very similar to the MAP estimate for a gaussian prior with identity covariance"
   ]
  },
  {
   "cell_type": "markdown",
   "metadata": {
    "slideshow": {
     "slide_type": "slide"
    }
   },
   "source": [
    "### Problem 2: Handwritten digit classification with logistic regression\n",
    "\n",
    "Download the file `mnist_49_3000.mat` from Canvas. This is a subset of the MNIST handwritten digit database, which is a well-known benchmark database for classification algorithms. This subset contains examples of the digits 4 and 9. The data file contains variables x and y, with the former containing patterns and the latter labels. The images are stored as column vectors.\n",
    "\n",
    "**Exercise**:\n",
    "* Load data and visualize data (Use scipy.io.loadmat to load matrix)\n",
    "* Add bias to the features $\\phi(\\vx)^T = [1, \\vx^T]$\n",
    "* Split dataset into training set with the first 2000 data and test set with the last 1000 data"
   ]
  },
  {
   "cell_type": "code",
   "execution_count": 2,
   "metadata": {
    "collapsed": true,
    "slideshow": {
     "slide_type": "slide"
    }
   },
   "outputs": [],
   "source": [
    "# all the packages you need\n",
    "import numpy as np\n",
    "import matplotlib.pyplot as plt\n",
    "import scipy.io\n",
    "from numpy.linalg import inv"
   ]
  },
  {
   "cell_type": "code",
   "execution_count": 3,
   "metadata": {
    "collapsed": false,
    "slideshow": {
     "slide_type": "fragment"
    }
   },
   "outputs": [
    {
     "name": "stdout",
     "output_type": "stream",
     "text": [
      "dict_keys(['__globals__', '__header__', 'y', 'x', '__version__'])\n"
     ]
    }
   ],
   "source": [
    "# load data from .mat\n",
    "mat = scipy.io.loadmat('mnist_49_3000.mat')\n",
    "print (mat.keys())"
   ]
  },
  {
   "cell_type": "code",
   "execution_count": 4,
   "metadata": {
    "collapsed": false,
    "slideshow": {
     "slide_type": "fragment"
    }
   },
   "outputs": [
    {
     "name": "stdout",
     "output_type": "stream",
     "text": [
      "(3000, 784) (3000, 1)\n"
     ]
    }
   ],
   "source": [
    "x = mat['x'].T\n",
    "y = mat['y'].T\n",
    "print (x.shape, y.shape)"
   ]
  },
  {
   "cell_type": "code",
   "execution_count": 5,
   "metadata": {
    "collapsed": false,
    "slideshow": {
     "slide_type": "slide"
    }
   },
   "outputs": [
    {
     "data": {
      "text/plain": [
       "<matplotlib.image.AxesImage at 0x29715087c18>"
      ]
     },
     "execution_count": 5,
     "metadata": {},
     "output_type": "execute_result"
    },
    {
     "data": {
      "image/png": "[encoded data removed]",
      "text/plain": [
       "<matplotlib.figure.Figure at 0x29714faf470>"
      ]
     },
     "metadata": {},
     "output_type": "display_data"
    }
   ],
   "source": [
    "# show example image\n",
    "plt.imshow (x[4, :].reshape(28, 28))"
   ]
  },
  {
   "cell_type": "code",
   "execution_count": 6,
   "metadata": {
    "collapsed": false,
    "slideshow": {
     "slide_type": "slide"
    }
   },
   "outputs": [
    {
     "name": "stdout",
     "output_type": "stream",
     "text": [
      "1481 1519\n"
     ]
    }
   ],
   "source": [
    "# add bias term\n",
    "x = np.hstack([np.ones((3000, 1)), x])\n",
    "\n",
    "# convert label -1 to 0\n",
    "y[y == -1] = 0\n",
    "\n",
    "print(y[y == 0].size, y[y == 1].size)\n",
    "\n",
    "# split into train set and test set\n",
    "x_train = x[: 2000, :]\n",
    "y_train = y[: 2000, :]\n",
    "x_test = x[2000 : , :]\n",
    "y_test = y[2000 : , :]"
   ]
  },
  {
   "cell_type": "markdown",
   "metadata": {
    "slideshow": {
     "slide_type": "slide"
    }
   },
   "source": [
    "Implement Newton’s method to find a minimizer of the regularized negative log likelihood. Try setting $\\lambda$ = 10. Use the first 2000 examples as training data, and the last 1000 as test data. \n",
    "\n",
    "**Exercise**\n",
    "* Implement the loss function with the following formula:\n",
    "$$\n",
    "\\begin{align}\n",
    "E(\\vw) \n",
    "&= -\\ln P(\\vy = \\vt| \\mathcal{X}, \\vw) \\\\\n",
    "&= \\boxed{\\sum \\nolimits_{n=1}^N \\left[ t_n \\ln (1+\\exp(-\\vw^T\\phi(\\vx_n))) + (1-t_n) \\ln(1+\\exp(\\vw^T\\phi(\\vx_n))) \\right] + \\lambda \\vw^T\\vw}\\\\\n",
    "\\end{align}\n",
    "$$\n",
    "* Implement the gradient of loss $$\\nabla_\\vw E(\\vw) = \\boxed{ \\Phi^T \\left( \\sigma(\\Phi \\vw) - \\vt \\right) + \\lambda \\vw}$$\n",
    "where $\\sigma(a) = \\frac{\\exp(a)}{1+\\exp(a)}$"
   ]
  },
  {
   "cell_type": "code",
   "execution_count": 7,
   "metadata": {
    "collapsed": true,
    "slideshow": {
     "slide_type": "fragment"
    }
   },
   "outputs": [],
   "source": [
    "# Initialization of parameters\n",
    "w = np.zeros((785, 1))\n",
    "lmd = 10"
   ]
  },
  {
   "cell_type": "code",
   "execution_count": 8,
   "metadata": {
    "collapsed": false,
    "slideshow": {
     "slide_type": "slide"
    }
   },
   "outputs": [
    {
     "name": "stdout",
     "output_type": "stream",
     "text": [
      "2079.44154168\n"
     ]
    }
   ],
   "source": [
    "def computeE(w, x, y, lmd) :\n",
    "    E = np.dot(y.T, np.log(1 + np.exp(-np.dot(x, w)))) + np.dot(1 - y.T, np.log(1 + \\\n",
    "        np.exp(np.dot(x, w)))) + lmd * np.dot(w.T, w)\n",
    "    return E[0][0]\n",
    "print (computeE(w, x, y, lmd))"
   ]
  },
  {
   "cell_type": "code",
   "execution_count": 9,
   "metadata": {
    "collapsed": false,
    "slideshow": {
     "slide_type": "fragment"
    }
   },
   "outputs": [
    {
     "name": "stdout",
     "output_type": "stream",
     "text": [
      "(785, 1)\n"
     ]
    }
   ],
   "source": [
    "def sigmoid(a) : \n",
    "    return np.exp(a + 1e-6) / (1 + np.exp(a + 1e-6))\n",
    "\n",
    "def computeGradientE(w, x, y, lmd) : \n",
    "    return np.dot(x.T, sigmoid(np.dot(x, w)) - y) + lmd * w\n",
    "print (computeGradientE(w, x, y, lmd).shape)"
   ]
  },
  {
   "cell_type": "markdown",
   "metadata": {
    "slideshow": {
     "slide_type": "slide"
    }
   },
   "source": [
    "### Recall: Newton's Method\n",
    "$$\n",
    "\\vx_{n+1}= \\vx_n - \\left(\\nabla^2 f(\\vx_n)\\right)^{-1} \\nabla_\\vx f(\\vx_n)\n",
    "$$\n",
    "of which $\\nabla^2 f(\\vx_n)$ is **Hessian matrix** which is the *second order derivative*\n",
    "$$\n",
    "\\nabla^2 f = \\begin{bmatrix}\n",
    "\\frac{\\partial f}{\\partial x_1\\partial x_1} & \\cdots & \\frac{\\partial f}{\\partial x_1\\partial x_n}\\\\ \n",
    "\\vdots & \\ddots & \\vdots\\\\ \n",
    "\\frac{\\partial f}{\\partial x_n\\partial x_1} & \\cdots & \\frac{\\partial f}{\\partial x_n\\partial x_n}\n",
    "\\end{bmatrix}\n",
    "$$\n",
    "\n",
    "$$\n",
    "\\begin{align}\n",
    "\\nabla^2 E(\\vw) \n",
    "&= \\nabla_\\vw \\nabla_\\vw E(\\vw) \\\\\n",
    "&= \\sum \\nolimits_{n=1}^N \\phi(\\vx_n) r_n(\\vw) \\phi(\\vx_n)^T + \\lambda I\n",
    "\\end{align}\n",
    "$$\n",
    "of which $r_n(\\vw) = \\sigma(\\vw^T \\phi(\\vx_n)) \\cdot ( 1 - \\sigma(\\vw^T \\phi(\\vx_n)) )$\n",
    "\n",
    "**Exercise** \n",
    "* Implement $r_n(\\vw)$\n",
    "* Implement $\\nabla^2 E(\\vw)$\n",
    "* Implement update function"
   ]
  },
  {
   "cell_type": "code",
   "execution_count": 10,
   "metadata": {
    "collapsed": false,
    "slideshow": {
     "slide_type": "slide"
    }
   },
   "outputs": [
    {
     "name": "stdout",
     "output_type": "stream",
     "text": [
      "(785, 1)\n"
     ]
    }
   ],
   "source": [
    "def computeR(w, x, y) : \n",
    "    return sigmoid(np.dot(x, w)) * (1 - sigmoid(np.dot(x, w)))\n",
    "# print (computeR(w, x, y).T)\n",
    "\n",
    "def computeHessian(w, x, y, lmd) :\n",
    "    return np.dot(x.T * computeR(w, x, y).T, x) + lmd * np.eye(w.shape[0])\n",
    "# print (computeHessian(w, x, y, lmd))\n",
    "\n",
    "def update(w, x, y, lmd) :\n",
    "    hessian = computeHessian(w, x, y, lmd)\n",
    "    gradient = computeGradientE(w, x, y, lmd)\n",
    "#     print (np.sum(hessian))\n",
    "    return w - np.dot(inv(hessian), gradient)\n",
    "print (update(w, x, y, lmd).shape)"
   ]
  },
  {
   "cell_type": "markdown",
   "metadata": {
    "slideshow": {
     "slide_type": "slide"
    }
   },
   "source": [
    "**Exercise**\n",
    "* Implement training process(When to stop iterating?)\n",
    "* Implement test function\n",
    "* Compute the test error\n",
    "* Compute the value of the objective function at the optimum"
   ]
  },
  {
   "cell_type": "code",
   "execution_count": 11,
   "metadata": {
    "collapsed": false,
    "slideshow": {
     "slide_type": "slide"
    }
   },
   "outputs": [],
   "source": [
    "def train(w, x, y, lmd) :\n",
    "    w_new = update(w, x, y, lmd)\n",
    "    diff = np.sum(np.abs(w_new - w))\n",
    "    while diff > 1e-6:\n",
    "        w = w_new\n",
    "        w_new = update(w, x, y, lmd)\n",
    "        diff = np.sum(np.abs(w_new - w))\n",
    "    return w\n",
    "w_train = train(w, x_train, y_train, lmd)"
   ]
  },
  {
   "cell_type": "code",
   "execution_count": 12,
   "metadata": {
    "collapsed": false,
    "slideshow": {
     "slide_type": "slide"
    }
   },
   "outputs": [
    {
     "name": "stdout",
     "output_type": "stream",
     "text": [
      "0.515\n",
      "0.045\n",
      "325.012508163\n"
     ]
    }
   ],
   "source": [
    "def test(w, x, y) :\n",
    "    tmp = np.dot(x, w)\n",
    "    y_pred = np.zeros(y.shape)\n",
    "    y_pred[tmp > 0] = 1\n",
    "    error = np.mean(np.abs(y_pred - y))\n",
    "    return error\n",
    "print (test(w, x_test, y_test))\n",
    "print (test(w_train, x_test, y_test))\n",
    "print (computeE(w_train, x_train, y_train, lmd))"
   ]
  }
 ],
 "metadata": {
  "anaconda-cloud": {},
  "celltoolbar": "Slideshow",
  "kernelspec": {
   "display_name": "Python [default]",
   "language": "python",
   "name": "python3"
  },
  "language_info": {
   "codemirror_mode": {
    "name": "ipython",
    "version": 3
   },
   "file_extension": ".py",
   "mimetype": "text/x-python",
   "name": "python",
   "nbconvert_exporter": "python",
   "pygments_lexer": "ipython3",
   "version": "3.5.2"
  }
 },
 "nbformat": 4,
 "nbformat_minor": 0
}
