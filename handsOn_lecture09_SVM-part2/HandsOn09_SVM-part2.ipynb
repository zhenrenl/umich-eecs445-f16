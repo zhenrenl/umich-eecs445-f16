{
 "cells": [
  {
   "cell_type": "markdown",
   "metadata": {
    "slideshow": {
     "slide_type": "skip"
    }
   },
   "source": [
    "$$ \\LaTeX \\text{ command declarations here.}\n",
    "\\newcommand{\\N}{\\mathcal{N}}\n",
    "\\newcommand{\\R}{\\mathbb{R}}\n",
    "\\renewcommand{\\vec}[1]{\\mathbf{#1}}\n",
    "\\newcommand{\\norm}[1]{\\|#1\\|_2}\n",
    "\\newcommand{\\d}{\\mathop{}\\!\\mathrm{d}}\n",
    "\\newcommand{\\qed}{\\qquad \\mathbf{Q.E.D.}}\n",
    "\\newcommand{\\vx}{\\mathbf{x}}\n",
    "\\newcommand{\\vy}{\\mathbf{y}}\n",
    "\\newcommand{\\vt}{\\mathbf{t}}\n",
    "\\newcommand{\\vb}{\\mathbf{b}}\n",
    "\\newcommand{\\vw}{\\mathbf{w}}\n",
    "\\newcommand{\\vm}{\\mathbf{m}}\n",
    "\\newcommand{\\I}{\\mathbb{I}}\n",
    "\\newcommand{\\th}{\\text{th}}\n",
    "$$"
   ]
  },
  {
   "cell_type": "markdown",
   "metadata": {
    "slideshow": {
     "slide_type": "slide"
    }
   },
   "source": [
    "# EECS 445:  Machine Learning\n",
    "## Hands On 09: Support Vector Machines\n",
    "* Instructor:  **Ben Bray, Chansoo Lee, Jia Deng, Jake Abernethy**\n",
    "* Date:  October 10, 2016\n",
    "\n",
    "### NEW: Finished Course website: http://eecs445-f16.github.io\n"
   ]
  },
  {
   "cell_type": "markdown",
   "metadata": {
    "slideshow": {
     "slide_type": "slide"
    }
   },
   "source": [
    "## Brute Force Search for Max-Margin SVM Solution\n",
    "\n",
    "In the hard-margin support vector machine formulation, we want to try to find the hyperplane the maximizes the margin and correctly classifies the data.\n",
    "\n",
    "Let's generate some data!"
   ]
  },
  {
   "cell_type": "code",
   "execution_count": 2,
   "metadata": {
    "collapsed": false,
    "scrolled": true
   },
   "outputs": [
    {
     "name": "stdout",
     "output_type": "stream",
     "text": [
      "Populating the interactive namespace from numpy and matplotlib\n"
     ]
    },
    {
     "data": {
      "text/plain": [
       "<matplotlib.collections.PathCollection at 0x10d867550>"
      ]
     },
     "execution_count": 2,
     "metadata": {},
     "output_type": "execute_result"
    },
    {
     "data": {
      "image/png": "[encoded data removed]",
      "text/plain": [
       "<matplotlib.figure.Figure at 0x104a24ef0>"
      ]
     },
     "metadata": {},
     "output_type": "display_data"
    }
   ],
   "source": [
    "%pylab inline\n",
    "import numpy as np\n",
    "\n",
    "center1 = np.array([3.0,3.0])\n",
    "center2 = np.array([-3.0,-3.0])\n",
    "X = np.zeros((100,2)); Y = np.zeros((100,))\n",
    "X[:50,:] = np.random.multivariate_normal(center1, np.eye(2),(50,))\n",
    "Y[:50] = +1\n",
    "X[50:,:] = np.random.multivariate_normal(center2, np.eye(2),(50,))\n",
    "Y[50:] = -1\n",
    "\n",
    "plt.scatter(X[:,0], X[:,1], c = Y)"
   ]
  },
  {
   "cell_type": "markdown",
   "metadata": {
    "slideshow": {
     "slide_type": "slide"
    }
   },
   "source": [
    "## Problem: Hard-margin SVM\n",
    "\n",
    "1. First pick one vector and offset term $(\\vec{w}, b)$ that correctly classifies the data\n",
    "1. Determine the size of the margin for this $\\vec{w}$\n",
    "1. **Challenging**: Do a brute force search (over a grid) to find the max-margin $\\vec{w}$!\n",
    "    > Note, this is not a good idea in general, since this algorithm has time complexity exponential in the dimension, but it's not so bad in 2d!\n",
    "1. Find the support vectors and plot them\n",
    "1. Modify the dataset above such that there is *no feasible solution $\\vec{w}$* (but just barely)\n",
    "1. How do you know when there is no feasible $\\vec{w}$?"
   ]
  },
  {
   "cell_type": "code",
   "execution_count": null,
   "metadata": {
    "collapsed": true
   },
   "outputs": [],
   "source": [
    "wvec = np.array([-4.0,7.0])\n",
    "bval = -2.4\n",
    "# Does this wvec and b correctly classify data within margin?"
   ]
  },
  {
   "cell_type": "markdown",
   "metadata": {
    "slideshow": {
     "slide_type": "slide"
    }
   },
   "source": [
    "## Problem: Soft-margin SVM objective\n",
    "\n",
    "- Recall original OSMH problem is\n",
    "    $$\n",
    "    \\begin{split}\n",
    "    \\underset{\\vw, b, \\xi}{\\text{minimize}} \\quad & \\frac12 {\\| \\vw \\|}^2 + \\frac{C}{n} \\sum \\nolimits_{i = 1}^n \\xi_i\\\\\n",
    "    \\text{subject to} \\quad & y_i(\\vw^T\\vx_i + b) \\geq 1 - \\xi_i \\quad \\text{ and } \\quad \\xi_i \\geq 0 \\quad \\forall i\\\\\n",
    "    \\end{split}\n",
    "    $$\n",
    "- Another way to write this is as follows:\n",
    "    $$\n",
    "    \\begin{split}\n",
    "    \\underset{\\vw, b, \\xi}{\\text{minimize}} \\quad & \\frac12 {\\| \\vw \\|}^2 + \\frac{C}{n} \\sum \\nolimits_{i = 1}^n \\max(0,1 - y_i(\\vw^T\\vx_i + b))\n",
    "    \\end{split}\n",
    "    $$\n",
    "\n",
    "\n",
    "\n",
    "1. You modified the dataset above to ensure there is no feasible $\\vec{w}$. Now find the $\\vec{w}$ that minimizes the OMSH objective using a brute force search \n",
    "1. Find two values of $C$ where the support vectors of the solution are different. Plot these in both cases."
   ]
  },
  {
   "cell_type": "code",
   "execution_count": null,
   "metadata": {
    "collapsed": true
   },
   "outputs": [],
   "source": [
    "# put some code in here!"
   ]
  },
  {
   "cell_type": "markdown",
   "metadata": {
    "collapsed": true,
    "slideshow": {
     "slide_type": "slide"
    }
   },
   "source": [
    "### OSMH  *Dual* Formulation\n",
    "\n",
    "- The previous objective function is referred to as the *Primal*\n",
    "    - With $N$ datapoints in $d$ dimensions, the Primal optimizes over $d + 1$ variables ($\\vw, b$).\n",
    "- But the *Dual* of this optimization problem has $N$ variables, one $\\alpha_i$ for each example $i$!\n",
    "\n",
    "$$\n",
    "    \\begin{split}\n",
    "    \\underset{\\alpha, \\beta}{\\text{maximize}} \\quad &  -\\frac12 \\sum \\nolimits_{i,j = 1}^n \\alpha_i \\alpha_j t_i t_j \\vx_i^T \\vx_j + \\sum \\nolimits_{i = 1}^n \\alpha_i\\\\\n",
    "    \\text{subject to} \\quad & 0 \\leq \\alpha_i \\leq C/n \\quad \\forall i\\ \\\\\n",
    "    \\quad & \\sum \\nolimits_{i=1}^n \\alpha_i t_i = 0    \n",
    "    \\end{split}\n",
    "$$\n",
    "\n",
    "- Often the Dual problem is easier to solve.\n",
    "- Once you solve the dual problem for $\\alpha^*_1, \\ldots, \\alpha^*_N$, you get a primal solution as well!\n",
    "\n",
    "\n",
    "1. Can you figure out a way (without using an optimization solver!) to determine the optimal dual parameters?\n",
    "    - open ended, you can try different ideas\n",
    "    - feel free to use the fact that you already know the support vectors\n",
    "1. How do you know that you did indeed find the optimal $\\alpha$'s?\n",
    "1. How can you compute the primal variables $\\vec{w}, b$ from these $\\alpha$'s?"
   ]
  },
  {
   "cell_type": "code",
   "execution_count": null,
   "metadata": {
    "collapsed": true
   },
   "outputs": [],
   "source": [
    "# let's find some alphas!"
   ]
  }
 ],
 "metadata": {
  "anaconda-cloud": {},
  "celltoolbar": "Slideshow",
  "kernelspec": {
   "display_name": "Python [default]",
   "language": "python",
   "name": "python3"
  },
  "language_info": {
   "codemirror_mode": {
    "name": "ipython",
    "version": 3
   },
   "file_extension": ".py",
   "mimetype": "text/x-python",
   "name": "python",
   "nbconvert_exporter": "python",
   "pygments_lexer": "ipython3",
   "version": "3.5.2"
  }
 },
 "nbformat": 4,
 "nbformat_minor": 0
}
