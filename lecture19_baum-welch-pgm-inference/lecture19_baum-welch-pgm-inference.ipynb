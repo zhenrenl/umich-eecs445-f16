{
 "cells": [
  {
   "cell_type": "markdown",
   "metadata": {
    "slideshow": {
     "slide_type": "skip"
    }
   },
   "source": [
    "$$ \\LaTeX \\text{ command declarations here.}\n",
    "\\newcommand{\\R}{\\mathbb{R}}\n",
    "\\renewcommand{\\vec}[1]{\\mathbf{#1}}\n",
    "\\newcommand{\\X}{\\mathcal{X}}\n",
    "\\newcommand{\\D}{\\mathcal{D}}\n",
    "\\newcommand{\\G}{\\mathcal{G}}\n",
    "\\newcommand{\\L}{\\mathcal{L}}\n",
    "\\newcommand{\\X}{\\mathcal{X}}\n",
    "\\newcommand{\\Parents}{\\mathrm{Parents}}\n",
    "\\newcommand{\\NonDesc}{\\mathrm{NonDesc}}\n",
    "\\newcommand{\\I}{\\mathcal{I}}\n",
    "\\newcommand{\\dsep}{\\text{d-sep}}\n",
    "\\newcommand{\\Cat}{\\mathrm{Categorical}}\n",
    "\\newcommand{\\Bin}{\\mathrm{Binomial}}\n",
    "$$"
   ]
  },
  {
   "cell_type": "code",
   "execution_count": 1,
   "metadata": {
    "collapsed": false,
    "slideshow": {
     "slide_type": "skip"
    }
   },
   "outputs": [],
   "source": [
    "from __future__ import division\n",
    "\n",
    "# scientific\n",
    "%matplotlib inline\n",
    "from matplotlib import pyplot as plt;\n",
    "import matplotlib as mpl;\n",
    "import numpy as np;\n",
    "import sklearn as skl;\n",
    "import sklearn.datasets;\n",
    "import sklearn.cluster;\n",
    "import sklearn.mixture;\n",
    "\n",
    "# ipython\n",
    "import IPython;\n",
    "\n",
    "# python\n",
    "import os;\n",
    "import random;\n",
    "\n",
    "#####################################################\n",
    "\n",
    "# image processing\n",
    "import PIL;\n",
    "\n",
    "# trim and scale images\n",
    "def trim(im, percent=100):\n",
    "    print(\"trim:\", percent);\n",
    "    bg = PIL.Image.new(im.mode, im.size, im.getpixel((0,0)))\n",
    "    diff = PIL.ImageChops.difference(im, bg)\n",
    "    diff = PIL.ImageChops.add(diff, diff, 2.0, -100)\n",
    "    bbox = diff.getbbox()\n",
    "    if bbox:\n",
    "        x = im.crop(bbox)\n",
    "        return x.resize(((x.size[0]*percent)//100, (x.size[1]*percent)//100), PIL.Image.ANTIALIAS);\n",
    "\n",
    "\n",
    "#####################################################\n",
    "\n",
    "# daft (rendering PGMs)\n",
    "import daft;\n",
    "\n",
    "# set to FALSE to load PGMs from static images\n",
    "RENDER_PGMS = True;\n",
    "\n",
    "# decorator for pgm rendering\n",
    "def pgm_render(pgm_func):\n",
    "    def render_func(path, percent=100, render=None, *args, **kwargs):\n",
    "        print(\"render_func:\", percent);\n",
    "        # render\n",
    "        render = render if (render is not None) else RENDER_PGMS;\n",
    "        \n",
    "        if render:\n",
    "            print(\"rendering\");\n",
    "            # render\n",
    "            pgm = pgm_func(*args, **kwargs);\n",
    "            pgm.render();\n",
    "            pgm.figure.savefig(path, dpi=300);\n",
    "            \n",
    "            # trim\n",
    "            img = trim(PIL.Image.open(path), percent);\n",
    "            img.save(path, 'PNG');\n",
    "        else:\n",
    "            print(\"not rendering\");\n",
    "        \n",
    "        # error\n",
    "        if not os.path.isfile(path):\n",
    "            raise Exception(\"Error:  Graphical model image %s not found.  You may need to set RENDER_PGMS=True.\" % path);\n",
    "        \n",
    "        # display\n",
    "        return IPython.display.Image(filename=path);#trim(PIL.Image.open(path), percent);\n",
    "    \n",
    "    return render_func;\n",
    "\n",
    "######################################################"
   ]
  },
  {
   "cell_type": "markdown",
   "metadata": {
    "slideshow": {
     "slide_type": "slide"
    }
   },
   "source": [
    "# EECS 445:  Machine Learning\n",
    "\n",
    "## Lecture 19: Baum-Welch Algorithm, and Inference in PGMs\n",
    "\n",
    "- Instructor:  **Jacob Abernethy**\n",
    "- Date:  November 21, 2016\n",
    "\n",
    "*Lecture Exposition:*  Benjamin Bray"
   ]
  },
  {
   "cell_type": "markdown",
   "metadata": {
    "slideshow": {
     "slide_type": "slide"
    }
   },
   "source": [
    "## References\n",
    "\n",
    "- **[MLAPP]** Murphy, Kevin. [*Machine Learning:  A Probabilistic Perspective*](https://mitpress.mit.edu/books/machine-learning-0).  2012.\n",
    "- **[PRML]** Bishop, Christopher.  [*Pattern Recognition and Machine Learning*](http://research.microsoft.com/en-us/um/people/cmbishop/prml/).  2006.\n",
    "- **[Koller & Friedman 2009]** Koller, Daphne and Nir Friedman.  [*Probabilistic Graphical Models*](https://mitpress.mit.edu/books/probabilistic-graphical-models)"
   ]
  },
  {
   "cell_type": "markdown",
   "metadata": {
    "slideshow": {
     "slide_type": "slide"
    }
   },
   "source": [
    "# **Review**: Hidden Markov Models\n",
    "\n",
    "> Uses material from **[MLAPP]**"
   ]
  },
  {
   "cell_type": "markdown",
   "metadata": {
    "slideshow": {
     "slide_type": "slide"
    }
   },
   "source": [
    "### Hidden Markov Models\n",
    "\n",
    "Noisy observations $X_k$ generated from *discrete* hidden Markov chain $Z_k$.\n",
    "$$\n",
    "P(\\vec{X}, \\vec{Z}) = P(Z_1) P(X_1 \\mid Z_1) \\prod_{k=2}^T P(Z_k \\mid Z_{k-1}) P(X_k \\mid Z_k)\n",
    "$$"
   ]
  },
  {
   "cell_type": "code",
   "execution_count": 31,
   "metadata": {
    "collapsed": true,
    "slideshow": {
     "slide_type": "skip"
    }
   },
   "outputs": [],
   "source": [
    "@pgm_render\n",
    "def pgm_hmm():\n",
    "    pgm = daft.PGM([7, 7], origin=[0, 0])\n",
    "\n",
    "    # Nodes\n",
    "    pgm.add_node(daft.Node(\"Z1\", r\"$Z_1$\", 1, 3.5))\n",
    "    pgm.add_node(daft.Node(\"Z2\", r\"$Z_2$\", 2, 3.5))\n",
    "    pgm.add_node(daft.Node(\"Z3\", r\"$\\dots$\", 3, 3.5, plot_params={'ec':'none'}))\n",
    "    pgm.add_node(daft.Node(\"Z4\", r\"$Z_T$\", 4, 3.5))\n",
    "\n",
    "    pgm.add_node(daft.Node(\"x1\", r\"$X_1$\", 1, 2.5, observed=True))\n",
    "    pgm.add_node(daft.Node(\"x2\", r\"$X_2$\", 2, 2.5, observed=True))\n",
    "    pgm.add_node(daft.Node(\"x3\", r\"$\\dots$\", 3, 2.5, plot_params={'ec':'none'}))\n",
    "    pgm.add_node(daft.Node(\"x4\", r\"$X_T$\", 4, 2.5, observed=True))\n",
    "\n",
    "\n",
    "    # Add in the edges.\n",
    "    pgm.add_edge(\"Z1\", \"Z2\", head_length=0.08)\n",
    "    pgm.add_edge(\"Z2\", \"Z3\", head_length=0.08)\n",
    "    pgm.add_edge(\"Z3\", \"Z4\", head_length=0.08)\n",
    "\n",
    "    pgm.add_edge(\"Z1\", \"x1\", head_length=0.08)\n",
    "    pgm.add_edge(\"Z2\", \"x2\", head_length=0.08)\n",
    "    pgm.add_edge(\"Z4\", \"x4\", head_length=0.08)\n",
    "    \n",
    "    return pgm;"
   ]
  },
  {
   "cell_type": "code",
   "execution_count": 32,
   "metadata": {
    "collapsed": false,
    "slideshow": {
     "slide_type": "slide"
    }
   },
   "outputs": [
    {
     "data": {
      "image/png": "[encoded data removed]",
      "text/plain": [
       "<IPython.core.display.Image object>"
      ]
     },
     "execution_count": 32,
     "metadata": {},
     "output_type": "execute_result"
    }
   ],
   "source": [
    "%%capture\n",
    "pgm_hmm(\"images/pgm/hmm.png\")"
   ]
  },
  {
   "cell_type": "markdown",
   "metadata": {
    "slideshow": {
     "slide_type": "slide"
    }
   },
   "source": [
    "### HMM:  Parameters\n",
    "\n",
    "For a Hidden Markov Model with $N$ hidden states and $M$ observed states, there are three *row-stochastic* parameters $\\theta=(A,B,\\pi)$,\n",
    "- Transition matrix  $A \\in \\R^{N \\times N}$\n",
    "    $$\n",
    "    A_{ij} = p(Z_t = j | Z_{t-1} = i)\n",
    "    $$\n",
    "- Emission matrix $B \\in \\R^{N \\times M}$\n",
    "    $$\n",
    "    B_{jk} = p(X_t = k | Z_t = j)\n",
    "    $$\n",
    "- Initial distribution $\\pi \\in \\R^N$,\n",
    "    $$\n",
    "    \\pi_j = p(Z_1 = j)\n",
    "    $$"
   ]
  },
  {
   "cell_type": "markdown",
   "metadata": {
    "slideshow": {
     "slide_type": "slide"
    }
   },
   "source": [
    "### HMM:  Filtering Problem\n",
    "\n",
    "**Filtering** means to compute the current *belief state* $p(z_t | x_1, \\dots, x_t,\\theta)$.\n",
    "    $$\n",
    "    p(z_t | x_1,\\dots,x_t) = \\frac{p(x_1,\\dots,x_t,z_t)}{p(x_1,\\dots,x_t)}\n",
    "    $$\n",
    "- Given observations $x_{1:t}$ so far, infer $z_t$.\n",
    "- *Example*:  Estimate robot position given previous sensor readings.\n",
    "\n",
    "> Solved by the **forward algorithm**."
   ]
  },
  {
   "cell_type": "markdown",
   "metadata": {
    "slideshow": {
     "slide_type": "slide"
    }
   },
   "source": [
    "## How do we infer values of hidden variables?\n",
    "\n",
    "- One of the most challenging part of HMMs is to try to \"predict\" what are the values of the hidden variables $z_t$, having observed all the $x_1, \\ldots, x_T$.\n",
    "- Computing $p(z_t \\mid \\X)$ is known on *smoothing*. More on this soon.\n",
    "- But it turns out that this probability can be computed from two other quantities:\n",
    "    - $p(x_1,\\dots,x_t,z_t)$, which we are going to label $\\alpha_t(z_t)$\n",
    "    - $p(x_{t+1},\\dots,x_{T} | z_t)$, which we are going to label $\\beta_t(z_t)$"
   ]
  },
  {
   "cell_type": "markdown",
   "metadata": {
    "slideshow": {
     "slide_type": "slide"
    }
   },
   "source": [
    "### HMM:  Forward Algorithm\n",
    "\n",
    "The **forward algorithm** computes $\\alpha_t(z_t) \\equiv p(x_1,\\dots,x_t,z_t)$.\n",
    "\n",
    "> Looks kinda hard to compute this probability, there are a lot of variables! Maybe it can be computed recursively? **Yes!**"
   ]
  },
  {
   "cell_type": "markdown",
   "metadata": {
    "slideshow": {
     "slide_type": "fragment"
    }
   },
   "source": [
    "$$\n",
    "    \\begin{align}\n",
    "    \\alpha_t(z_t)\n",
    "    &= \\sum_{z_{t-1}} p(x_1, \\dots, x_t, z_{t-1}, z_t) \\\\\n",
    "    &= \\sum_{z_{t-1}} p(x_1, \\dots, x_{t-1}, z_{t-1}) p(z_t | z_{t-1}) p(x_t | z_t) \\\\\n",
    "    &= p(x_t | z_t) \\sum_{z_{t-1}} \\alpha_{t-1}(z_{t-1}) p(z_t | z_{t-1})\\\\\n",
    "    &= B_{z_t,x_t} \\sum_{z_{t-1}} \\alpha_{t-1}(z_{t-1}) A_{z_{t-1}, z_t}\n",
    "    \\end{align}\n",
    "$$\n",
    "\n",
    "> Recursion starts from the *front* of the chain.\n",
    "> (Suggestion: you need to work out the above recursion on your own, it's a really important exercise)"
   ]
  },
  {
   "cell_type": "markdown",
   "metadata": {
    "slideshow": {
     "slide_type": "slide"
    }
   },
   "source": [
    "### HMM:  Backward Algorithm\n",
    "\n",
    "The **backward algorithm** computes $\\beta_t(z_t) \\equiv p(x_{t+1},\\dots,x_{T} | z_t)$,\n",
    "> Again, maybe we can try to compute this recursively?"
   ]
  },
  {
   "cell_type": "markdown",
   "metadata": {
    "slideshow": {
     "slide_type": "fragment"
    }
   },
   "source": [
    "$$\n",
    "    \\begin{align}\n",
    "    \\beta(z_t)\n",
    "    &= \\sum_{z_{t+1}} p(x_{t+1},\\dots,x_{T},z_{t+1} | z_t) \\\\\n",
    "    &= \\sum_{z_{t+1}} p(z_{t+1}|z_t) p(x_{t+1}, \\dots, x_T |z_{t+1}, z_t)\\\\\n",
    "        (\\text{since } x_{t+1:T} \\perp z_t \\mid z_{t+1}) \\quad \n",
    "    &= \\sum_{z_{t+1}} p(z_{t+1}|z_t) p(x_{t+1}, \\dots, x_T |z_{t+1})\\\\\n",
    "        (\\text{since } x_{t+2:T} \\perp x_{t+1} \\mid z_{t+1}) \\quad \n",
    "    &= \\sum_{z_{t+1}} p(z_{t+1}|z_t) p(x_{t+1}|z_{t+1})  p(x_{t+2}, \\dots, x_T |z_{t+1})\\\\\n",
    "    &= \\sum_{z_{t+1}} p(z_{t+1}|z_t) p(x_{t+1}|z_{t+1}) \\beta_{t+1}(z_{t+1}) \\\\\n",
    "    &= \\sum_{z_{t+1}} A_{z_t, z_{t+1}} B_{z_{t+1}, x_{t+1}} \\beta_{t+1}(z_{t+1})\n",
    "    \\end{align}\n",
    "$$\n",
    "\n",
    "> Recursion starts from the *back* of the chain.\n",
    "> (Suggestion: you need to work out the above recursion on your own, it's a really important exercise)"
   ]
  },
  {
   "cell_type": "markdown",
   "metadata": {
    "slideshow": {
     "slide_type": "slide"
    }
   },
   "source": [
    "### HMM:  Smoothing Problem\n",
    "\n",
    "Compute $p(z_t | \\X)$ offline, given all observations.  \n",
    "- Retroactively infer $z_t$.  (Hindsight!)\n",
    "\n",
    "We can break the chain into two parts, the *past* and *future*:\n",
    "    $$\n",
    "    \\begin{align}\n",
    "    p(z_t | \\X)\n",
    "    &= p(x_{1:t}, z_t, x_{t+1:T}) \\frac{1}{p(\\X)} \\\\\n",
    "    &= p(x_{1:t}, z_t) p(x_{t+1:T} | x_{1:t}, z_t)\\frac{1}{p(\\X)} \\\\\n",
    "    &= p(x_{1:t}, z_t) p(x_{t+1:T} | z_t)\\frac{1}{p(\\X)}\n",
    "    \\end{align}\n",
    "    $$\n",
    "**Exercise**: How did we get that last line?"
   ]
  },
  {
   "cell_type": "markdown",
   "metadata": {
    "slideshow": {
     "slide_type": "slide"
    }
   },
   "source": [
    "### HMM:  Smoothing Problem\n",
    "\n",
    "Overall, the **smoothing problem** is to compute\n",
    "$$\n",
    "\\begin{align*}\n",
    "    \\gamma_t(j) \\equiv p(z_t = j \\mid \\X) \n",
    "    & = \\frac{p(\\X \\mid z_t = j)p(z_t = j)}{p(\\X)} \\\\\n",
    "    & = \\frac{p(\\X_{1:t} \\mid z_t = j) p(\\X_{t+1:T} | z_t=j) p(z_t = j)}{p(\\X)} \\\\\n",
    "    & = \\frac{\\alpha_t(j) \\beta_t(j)}{p(\\X)} = \\frac{\\alpha_t(j) \\beta_t(j)}{\\sum_k \\alpha_t(k)\\beta_t(k)}\n",
    "\\end{align*}\n",
    "$$\n",
    "It is an easy exercise to check that, for any $t$, $p(\\X) = \\sum_k \\alpha_t(k)\\beta_t(k)$.\n",
    "\n",
    "We solve this via the **forward-backward algorithm**, where\n",
    "- $\\alpha_t(z_t) \\equiv p(x_1,\\dots,x_t,z_t)$ is found with the **forward algorithm**\n",
    "- $\\beta_t(z_t) \\equiv p(x_{t+1},\\dots,x_{T} | z_t)$ is found with the **backward algorithm**\n",
    "\n"
   ]
  },
  {
   "cell_type": "markdown",
   "metadata": {
    "slideshow": {
     "slide_type": "slide"
    }
   },
   "source": [
    "### HMM:  Decoding Problem\n",
    "\n",
    "**Decoding** computes the most probable state sequence, given observations.\n",
    "    $$\n",
    "    \\vec{z}^* = \\arg\\max_{z_1,\\dots,z_T} p(z_1,\\dots,z_T | x_1, \\dots, x_T, \\theta)\n",
    "    $$\n",
    "\n",
    "> The decoding problem is solved by the **Viterbi algorithm**, which uses dynamic programming.  See **[PRML]** or **[MLAPP]** for more details."
   ]
  },
  {
   "cell_type": "markdown",
   "metadata": {
    "slideshow": {
     "slide_type": "slide"
    }
   },
   "source": [
    "### Viterbi Algorithm\n",
    "\n",
    "* Viterbi is another recursive procedure for computing the most likely sequence of hidden states.\n",
    "* We define $V_t(z_t)$ to be the probability of the most likely sequence of states up to time $t$ *that ended in state* $z_t$, given observed data\n",
    "* These $V(z_t)$ values satisfies the recursion:\n",
    "\n",
    "\\begin{align}\n",
    "V_1(j) & = p(x_1 \\mid z_1=j) = B_{x_1, j}\\\\\n",
    "V_{t+1}(j) & = p(x_{t+1} \\mid z_{t+1} = j) \\max_{k} \\bigg\\{ V_{t}(k) p(z_{t+1} = j \\mid z_t = k) \\bigg\\}\\\\\n",
    "& = B_{x_{t+1},j} \\max_{k} \\bigg\\{ V_{t}(k) A_{j,k} \\bigg\\}\n",
    "\\end{align}\n",
    "\n",
    "* Can be computed very quickly!"
   ]
  },
  {
   "cell_type": "markdown",
   "metadata": {
    "slideshow": {
     "slide_type": "slide"
    }
   },
   "source": [
    "\n",
    "### HMM:  Part-of-Speech Tagging\n",
    "\n",
    "In English, some words can have multiple parts of speech.  For instance,\n",
    "\n",
    "- Business is going **well** (*Adverb*).\n",
    "- All is **well** with us (*Adjective*).\n",
    "- **Well**, who would have thought he could do it? (*Interjection*)\n",
    "- The **well** was drilled fifty meters deep. (*Noun*)\n",
    "- Tears **well** up in my eyes. (*Verb*)\n",
    "\n",
    "<span style=\"color:gray; font-size:10px; float:right\">(Example taken from [here](http://english.stackexchange.com/questions/46277/what-word-can-fulfill-the-most-parts-of-speech).)</span>"
   ]
  },
  {
   "cell_type": "markdown",
   "metadata": {
    "slideshow": {
     "slide_type": "slide"
    }
   },
   "source": [
    "### HMM:  Part-of-Speech Tagging\n",
    "\n",
    "We can use a Hidden Markov Model to **disambiguate** the part of speech using context clues!\n",
    "- Hidden states $z_t$ are parts-of-speech\n",
    "- Observed states $x_t$ are words\n",
    "\n",
    "Certain sequences of POS tags are unlikely.  This allows us to infer the correct tags!"
   ]
  },
  {
   "cell_type": "markdown",
   "metadata": {
    "slideshow": {
     "slide_type": "slide"
    }
   },
   "source": [
    "## EM for HMMs: The Baum-Welch Algorithm"
   ]
  },
  {
   "cell_type": "markdown",
   "metadata": {
    "slideshow": {
     "slide_type": "slide"
    }
   },
   "source": [
    "### HMM:  Learning Problem\n",
    "\n",
    "It is usually necessary to **learn** the model parameters $\\theta = (A,B,\\pi)$ from data.\n",
    "- Given observations $\\mathcal{X} = \\{ x_1, \\dots, x_T \\}$\n",
    "- Given model dimensions $N$ and $M$\n",
    "- Find parameters, i.e. the matrices $A$ & $B$, and the vector $\\pi$ that best fit the data.\n",
    "\n",
    "> The learning problem is solved by the **Baum-Welch algorithm**, a special case of expectation maximization."
   ]
  },
  {
   "cell_type": "markdown",
   "metadata": {
    "slideshow": {
     "slide_type": "slide"
    }
   },
   "source": [
    "### Recall:  Expectation-Maximization\n",
    "\n",
    "<div style=\"margin:10px;padding:10px;border:2px solid black;\">\n",
    "<div>\n",
    "**E-Step:** Write down an expression for \n",
    "    $$\n",
    "    Q(\\theta_t, \\theta) = E_{q}[ \\log p(\\X,Z | \\theta) ] \\quad \\quad \\text{ where } q = q(\\cdot | \\theta_t)\n",
    "    $$\n",
    "</div><div>\n",
    "**M-Step:** Maximize the auxiliary function,\n",
    "    $$\n",
    "    \\theta_{t+1}\n",
    "    = \\arg\\max_\\theta Q(\\theta_t, \\theta)\n",
    "    $$\n",
    "</div>\n",
    "</div>\n",
    "\n",
    "> Recall $q_t(Z) = p(Z|\\X,\\theta_t)$"
   ]
  },
  {
   "cell_type": "markdown",
   "metadata": {
    "slideshow": {
     "slide_type": "slide"
    }
   },
   "source": [
    "### HMM:  Complete-Data Log-Likelihood\n",
    "\n",
    "The joint likelihood of the hidden and observed states is\n",
    "\n",
    "$$\n",
    "\\begin{align}\n",
    "\\log p(x_{1:T}, z_{1:T} | \\theta)\n",
    "&= \\log \\left[ p(z_1|\\pi)\n",
    "    \\prod_{t=2}^T p(z_t | z_{t-1}, A)\n",
    "    \\prod_{t=1}^T p(x_t | z_t, B) \\right] \\\\\n",
    "&=  \\log p(z_1|\\pi)\n",
    "    + \\sum_{t=2}^T \\log p(z_t | z_{t-1}, A) \\\\\n",
    "    & \\qquad \\qquad + \\sum_{t=1}^T \\log p(x_t | z_t, B) \n",
    "\\end{align}\n",
    "$$"
   ]
  },
  {
   "cell_type": "markdown",
   "metadata": {
    "slideshow": {
     "slide_type": "slide"
    }
   },
   "source": [
    "### HMM:  Complete-Data Log-Likelihood\n",
    "\n",
    "Each term of the complete-data log-likelihood is:\n",
    "\n",
    "$$\n",
    "\\begin{align}\n",
    "\\log p(z_1 | \\pi)\n",
    "    &= \\sum_{j=1}^N \\mathbb{I}(z_1=j) \\log \\pi_j \\\\\n",
    "\\log p(z_t | z_{t-1}, A)\n",
    "    &= \\sum_{i=1}^N \\sum_{j=1}^N \n",
    "        \\mathbb{I}(z_{t-1}=i)\\mathbb{I}(z_t=j) \\log A_{ij} \\\\\n",
    "\\log p(x_t | z_t, B)\n",
    "    &= \\sum_{j=1}^N \n",
    "        \\mathbb{I}(z_t=j) \\log B_{j,x_t} \n",
    "\\end{align}\n",
    "$$"
   ]
  },
  {
   "cell_type": "markdown",
   "metadata": {
    "slideshow": {
     "slide_type": "slide"
    }
   },
   "source": [
    "### HMM:  Expected Complete Likelihood\n",
    "\n",
    "The expected complete likelihood $Q(\\theta_t, \\theta)$ is\n",
    "\n",
    "$$\n",
    "\\begin{align}\n",
    "Q(\\theta_t,\\theta)\n",
    "&= E_q[ \\log p(\\X,Z|\\theta) ] \\\\\n",
    "&= E_q[ \\log p(z_1|\\pi) ]\n",
    "    + E_q\\left[ \\sum_{t=2}^T \\log p(z_t | z_{t-1}, A) \\right]\\\\\n",
    "    &\\qquad + E_q\\left[ \\sum_{t=1}^T \\log p(x_t | z_t, B) \\right]\n",
    "\\end{align}\n",
    "$$"
   ]
  },
  {
   "cell_type": "markdown",
   "metadata": {
    "slideshow": {
     "slide_type": "slide"
    }
   },
   "source": [
    "### HMM:  Expected Complete Likelihood\n",
    "\n",
    "Fixing $t > 1$, and taking expectations with respect to $q(Z) = p(Z|\\X,\\theta)$,\n",
    "\n",
    "$$\n",
    "\\begin{align*}\n",
    "E_q[\\log p(z_1 | \\pi)]\n",
    "    &= \\sum_{j=1}^N q(z_1=j) \\log \\pi_j \\\\\n",
    "E_q[\\log p(z_t | z_{t-1}, A)]\n",
    "    &= \\sum_{i=1}^N \\sum_{j=1}^N \n",
    "        q(z_{t-1}=i, z_t=j) \\log A_{ij} \\\\\n",
    "E_q[\\log p(x_t | z_t, B)]\n",
    "    &= \\sum_{j=1}^N \n",
    "        q(z_t=j) \\log B_{j, x_t} \n",
    "\\end{align*}\n",
    "$$\n"
   ]
  },
  {
   "cell_type": "markdown",
   "metadata": {
    "slideshow": {
     "slide_type": "slide"
    }
   },
   "source": [
    "### HMM:  Baum-Welch\n",
    "\n",
    "- The **E-Step** consists of computing the $q$ terms from the previous slide, which can all be computed using the **forward-backward algorithm**!\n",
    "\n",
    "- The **M-Step** consists of normalizing the expected transition and emission counts\n",
    "    - Similar to MLE for complete data\n",
    "    - Requires some careful calculations. See details on next slide."
   ]
  },
  {
   "cell_type": "markdown",
   "metadata": {
    "slideshow": {
     "slide_type": "slide"
    }
   },
   "source": [
    "You must compute the key quantities for $q()$ using the forward-backward algorithm. In the E step you can assume the parameters $\\theta = (A, B, \\pi)$, so we'll drop dependence on $\\theta$.\n",
    "1. First note that $q(z_t=j) = p(z_t = j \\mid \\X, \\theta) = \\gamma_t(j)$ which we computed above.\n",
    "1. We then compute $q(z_{t-1}=i, z_t=j) = p(z_{t-1}=i, z_t=j | \\X, \\theta)$. \n",
    "$$\n",
    "\\begin{align*}\n",
    "    p(z_{t-1}, z_t | \\X, \\theta)\n",
    "    & = \\frac{p(\\X \\mid z_t, z_{t-1})p(z_t, z_{t-1})}{p(\\X)} \\\\\n",
    "    & = \\frac{p(\\X_{1:t-1} \\mid z_t, z_{t-1}) p(\\X_{t:T} | z_t, z_{t-1}) p(z_t, z_{t-1})}{p(\\X)} \\\\\n",
    "    & = \\frac{p(\\X_{1:t-1} \\mid z_{t-1}) p(\\X_{t:T} | z_t) p(z_t, z_{t-1})}{p(\\X)} \\\\\n",
    "    & = \\frac{p(\\X_{1:t-1}, z_{t-1}) p(x_t \\mid z_t) p(\\X_{t+1:T} | z_t) p(z_t, z_{t-1})}{p(z_{t-1})p(\\X)} \\\\\n",
    "    & = \\frac{\\alpha_{t-1}(z_{t-1}) \\beta_t(z_t) p(z_t \\mid z_{t-1}) p(x_t \\mid z_t)}{p(\\X)} \\\\\n",
    "    & = \\frac{\\alpha_{t-1}(z_{t-1}) \\beta_t(z_t) A_{z_{t-1}, z_t} B_{z_t, x_t}}{\\sum_k \\alpha_t(k)\\beta_t(k)}\n",
    "\\end{align*}\n",
    "$$"
   ]
  },
  {
   "cell_type": "markdown",
   "metadata": {
    "slideshow": {
     "slide_type": "slide"
    }
   },
   "source": [
    "## Break Time!\n",
    "<img src=\"images/paw_cat.gif\" />"
   ]
  },
  {
   "cell_type": "markdown",
   "metadata": {
    "slideshow": {
     "slide_type": "slide"
    }
   },
   "source": [
    "# Graphical Models: Wrap-Up\n",
    "\n",
    "We've just barely scratched the surface of what **probabilistic graphical models** have to offer.\n",
    "- Bayesian Networks\n",
    "- Mixture Models\n",
    "- Hidden Markov Models\n",
    "- Latent Variable Models & Expectation-Maximization\n",
    "\n",
    "This lecture will be a grab-bag of some of the things we missed.\n",
    "\n",
    "> Accordingly, we won't test you on the details.  "
   ]
  },
  {
   "cell_type": "markdown",
   "metadata": {
    "slideshow": {
     "slide_type": "slide"
    }
   },
   "source": [
    "### Graphical Models:  Related Courses\n",
    "\n",
    "These courses are being offered next semester:\n",
    "- **IOE 591**, [Bayesian Data Analysis](https://d1b10bmlvqabco.cloudfront.net/attach/iizaobacnl55nb/hku8ttycli2/ilxshlclzteu/IOE591_flyer.pdf)\n",
    "- **EECS 592**, Advanced Artificial Intelligence\n",
    "\n",
    "The following courses have been offered in the past:\n",
    "- **STATS 601**, Analysis of Multivariate and Categorical Data\n",
    "- **EECS 598**, [Probabilistic Graphical Models in Vision and Beyond](http://web.eecs.umich.edu/~jjcorso/t/598W15/)\n",
    "- **STATS 700**, [Probabilistic Graphical Models](http://dept.stat.lsa.umich.edu/~xuanlong/courses/stat700-f09/)"
   ]
  },
  {
   "cell_type": "markdown",
   "metadata": {
    "slideshow": {
     "slide_type": "slide"
    }
   },
   "source": [
    "### Graphical Models:  Other Resources\n",
    "\n",
    "- **[Koller & Friedman 2009]** Koller, Daphne and Nir Friedman.  [*Probabilistic Graphical Models*](https://mitpress.mit.edu/books/probabilistic-graphical-models)\n",
    "- **[Wainwright & Jordan 2008]** Wainwright, Martin, and Michael Jordan.  [Graphical Models, Exponential Families, and Variational Inference](https://www.eecs.berkeley.edu/~wainwrig/Papers/WaiJor08_FTML.pdf).  2008\n",
    "- **Coursera,** [Probabilistic Graphical Models](https://www.coursera.org/course/pgm)"
   ]
  },
  {
   "cell_type": "markdown",
   "metadata": {
    "slideshow": {
     "slide_type": "slide"
    }
   },
   "source": [
    "## Outline\n",
    "\n",
    "- Undirected Graphical Models\n",
    "    - Markov Random Fields\n",
    "- Summary of Exact Inference\n",
    "- Approximate Inference\n",
    "    - Gibbs Sampling\n",
    "    - Variational Inference\n",
    "- Applications\n",
    "    - Latent Dirichlet Allocation"
   ]
  },
  {
   "cell_type": "markdown",
   "metadata": {
    "slideshow": {
     "slide_type": "slide"
    }
   },
   "source": [
    "# Undirected Graphical Models\n",
    "\n",
    "> Uses material from **[MLAPP]** Chapter 19 and **[Koller & Friedman 2009]** Chapter 4\n",
    "\n",
    "---\n",
    "\n",
    "> Also known as **Markov Random Field**"
   ]
  },
  {
   "cell_type": "markdown",
   "metadata": {
    "slideshow": {
     "slide_type": "slide"
    }
   },
   "source": [
    "### Markov Random Fields:  Motivation\n",
    "\n",
    "So far, we have talked only about **directed models**.\n",
    "- Directed edges represent an underlying generative process.\n",
    "- Formalizes independence properties between variables\n",
    "\n",
    "In some cases, **undirected models** are more natural.\n",
    "- In many applications, it's hard to assign a direction to the interactions between variables.\n",
    "- Offer a different, sometimes simpler, perspective"
   ]
  },
  {
   "cell_type": "markdown",
   "metadata": {
    "slideshow": {
     "slide_type": "slide"
    }
   },
   "source": [
    "### Markov Random Fields:  Motivation\n",
    "\n",
    "Consider the problem of modeling pixels in an image.\n",
    "- One random variable $X_{ij}$ per pixel $(i,j)$ in the image.\n",
    "- Intensity values of neighboring pixels are *locally* correlated\n",
    "\n",
    "How can we represent this situation as a Bayesian network?\n",
    "- Which directions do the arrows go?\n",
    "- Which independence properties are desirable?\n"
   ]
  },
  {
   "cell_type": "markdown",
   "metadata": {
    "slideshow": {
     "slide_type": "slide"
    }
   },
   "source": [
    "### Markov Random Fields:  Motivation\n",
    "\n",
    "We could arbitrarily add directed edges, but this leads to strange independence structures.\n",
    "- Below, $X_8$ is independent of all other variables given the colored nodes.\n",
    "\n",
    "<img src=\"images/murphy-fig191a.png\">\n",
    "\n",
    "\n",
    "<span style=\"color:gray; font-size:10px; float:right\">(Figure 19.1a from **[MLAPP]**)</span>"
   ]
  },
  {
   "cell_type": "markdown",
   "metadata": {
    "slideshow": {
     "slide_type": "slide"
    }
   },
   "source": [
    "### Markov Random Fields:  Motivation\n",
    "\n",
    "Since images have no natural \"directionality\", why bother with undirected edges?\n",
    "- Now, $X_8$ is independent of all other variables given its immediate neighbors.  \n",
    "\n",
    "<img src=\"images/murphy-fig191b.png\">\n",
    "\n",
    "\n",
    "<span style=\"color:gray; font-size:10px; float:right\">(Figure 19.1b from **[MLAPP]**)</span>"
   ]
  },
  {
   "cell_type": "markdown",
   "metadata": {
    "slideshow": {
     "slide_type": "slide"
    }
   },
   "source": [
    "### Markov Random Fields:  Parameterization\n",
    "\n",
    "Directed models come with a natural topological ordering.\n",
    "- Applying the chain rule yields a factorization.\n",
    "- It is only necessary to store **conditional probability tables**\n",
    "\n",
    "Undirected models have no natural ordering!\n",
    "- Instead, we describe the model in terms of **factors** describing the local interactions between variables."
   ]
  },
  {
   "cell_type": "markdown",
   "metadata": {
    "slideshow": {
     "slide_type": "slide"
    }
   },
   "source": [
    "### Markov Random Fields:  Factors\n",
    "\n",
    "Let $\\mathbf{D}$ be a set of random variables.  A **factor** is a function $\\phi : \\mathrm{Val}(\\mathbf{D}) \\mapsto \\R$.\n",
    "- where $\\mathrm{Val}(\\mathbf{D})$ is the set of possible configurations of the variables.\n",
    "- where $\\mathbf{D}$ is called the *scope* of $\\phi$\n",
    "\n",
    "> A factor assigns a real number to every possible configuration of the variables $\\mathbf{D}$"
   ]
  },
  {
   "cell_type": "markdown",
   "metadata": {
    "slideshow": {
     "slide_type": "slide"
    }
   },
   "source": [
    "### Markov Random Fields:  Factors\n",
    "\n",
    "Probability distributions are *normalized* factors.\n",
    "- $P(X_1,X_2,X_3)$ is a factor on $\\mathbf{D}=(X_1,X_2,X_3)$\n",
    "- $P(X | Y)$ is a factor on $\\mathbf{D}=(X,Y)$\n",
    "\n",
    "Other factors need not be normalized.  For example, $\\phi(A,B)$ assigns high *affinity* to configurations where $A$ and $B$ agree:\n",
    "\n",
    "<table>\n",
    "<thead><th>$A$</th><th>$B$</th><th>$\\phi(A,B)$</th></thead>\n",
    "<tbody>\n",
    "    <tr><td>0</td><td>0</td><td>100</td></tr>\n",
    "    <tr><td>0</td><td>1</td><td>-50</td></tr>\n",
    "    <tr><td>1</td><td>0</td><td>-50</td></tr>\n",
    "    <tr><td>1</td><td>1</td><td>100</td></tr>\n",
    "</tbody>\n",
    "</table>"
   ]
  },
  {
   "cell_type": "markdown",
   "metadata": {
    "slideshow": {
     "slide_type": "slide"
    }
   },
   "source": [
    "### Markov Random Fields:  Parameterization\n",
    "\n",
    "Given a set of factors $\\Phi=(\\phi_1(\\mathbf{D}_1), \\phi_2(\\mathbf{D}_2), \\dots, \\phi_K(\\mathbf{D}_K))$, we can define a **Gibbs Distribution**,\n",
    "    $$\n",
    "    \\begin{align}\n",
    "    P_\\Phi(X_1,\\dots,X_n)\n",
    "    &= \\frac{1}{Z} \\phi_1(\\mathbf{D}_1) \\phi_2(\\mathbf{D}_2) \\cdots \\phi_K(\\mathbf{D}_K) \\\\\n",
    "    &= \\frac{1}{Z} \\exp\\left[ \\sum_{k=1}^K \\log \\phi_k(\\mathbf{D}_k) \\right]\n",
    "    \\end{align}\n",
    "    $$\n",
    "where $Z$ is a normalization constant.  Sometimes log-potentials are referred to as **energies** associated with each configuration of variables.\n",
    "\n",
    "> This model was stolen from physicists :)"
   ]
  },
  {
   "cell_type": "markdown",
   "metadata": {
    "slideshow": {
     "slide_type": "slide"
    }
   },
   "source": [
    "### Markov Random Fields:  Texture Modeling\n",
    "\n",
    "Suppose we have a **pairwise Markov Random Field** over binary pixels.\n",
    "- *Binary:* Each pixel is either $-1$ (black) or $1$ (white)\n",
    "- *Pairwise:* Only model interactions between directly neighboring pixels.\n",
    "\n",
    "Define the **energy function**, summing over all edges $(i,j)$:\n",
    "$$\n",
    "U(\\X) = -\\beta \\sum_{(i,j)} x_i x_j \\qquad (\\beta > 0)\n",
    "$$"
   ]
  },
  {
   "cell_type": "markdown",
   "metadata": {
    "slideshow": {
     "slide_type": "slide"
    }
   },
   "source": [
    "### Markov Random Fields:  Texture Modeling\n",
    "\n",
    "Then, the probability of an image is\n",
    "$$\n",
    "P(\\X)\n",
    "= \\frac{1}{Z} \\exp[-U(\\X)]\n",
    "= \\frac{1}{Z} \\exp\\left[-\\beta \\sum_{(i,j)} x_i x_j \\right]\n",
    "$$\n",
    "\n",
    "The *affinity parameter* $\\beta > 0$ determines how much we want neighboring pixels to agree with each other.\n",
    "- Low energy = High probability = Neighbors Agree\n",
    "- High energy = Low probability = Neighbors Disagree"
   ]
  },
  {
   "cell_type": "markdown",
   "metadata": {
    "slideshow": {
     "slide_type": "slide"
    }
   },
   "source": [
    "### Markov Random Fields:  Texture Modeling\n",
    "\n",
    "Using Gibbs Sampling (later!) we can generate image samples! (low $\\beta$)\n",
    "\n",
    "<img src=\"images/mrf-texture-1.png\">"
   ]
  },
  {
   "cell_type": "markdown",
   "metadata": {
    "slideshow": {
     "slide_type": "slide"
    }
   },
   "source": [
    "### Markov Random Fields:  Texture Modeling\n",
    "\n",
    "Using Gibbs Sampling (later!) we can generate image samples! (high $\\beta$)\n",
    "\n",
    "<img src=\"images/mrf-texture-2.png\">"
   ]
  },
  {
   "cell_type": "markdown",
   "metadata": {
    "slideshow": {
     "slide_type": "slide"
    }
   },
   "source": [
    "### Markov Random Fields:  Texture Modeling\n",
    "\n",
    "We can also model more complex interactions between pixels.\n",
    "- Force vertical neighbors to agree, horizontal neighbors to disagree.\n",
    "- Rather than taking direct neighbors, look at a *window* around each pixel.\n",
    "- Learn different $\\beta$ values for different regions of the image."
   ]
  },
  {
   "cell_type": "markdown",
   "metadata": {
    "slideshow": {
     "slide_type": "slide"
    }
   },
   "source": [
    "### Markov Random Fields:  Texture Synthesis\n",
    "\n",
    "We can learn to sample large textures from a small starting seed:\n",
    "\n",
    "<img src=\"images/mrf-texture-3.png\">\n",
    "\n",
    "<span style=\"color:gray; font-size:10px; float:right\">(Example taken from Efros & Leung, [Texture Synthesis by Non-Parametric Sampling](http://ieeexplore.ieee.org.proxy.lib.umich.edu/stamp/stamp.jsp?tp=&arnumber=790383))</span>"
   ]
  },
  {
   "cell_type": "markdown",
   "metadata": {
    "slideshow": {
     "slide_type": "slide"
    }
   },
   "source": [
    "### Markov Random Fields:  Texture Synthesis\n",
    "\n",
    "The same algorithm can even be applied to text!\n",
    "\n",
    "<img src=\"images/mrf-texture-4.png\">\n",
    "\n",
    "<span style=\"color:gray; font-size:10px; float:right\">(Example taken from Efros & Leung, [Texture Synthesis by Non-Parametric Sampling](http://ieeexplore.ieee.org.proxy.lib.umich.edu/stamp/stamp.jsp?tp=&arnumber=790383))</span>"
   ]
  },
  {
   "cell_type": "markdown",
   "metadata": {
    "slideshow": {
     "slide_type": "slide"
    }
   },
   "source": [
    "### Undirected Models:  Other Applications\n",
    "\n",
    "Undirected models are incredibly useful for probabilistic modeling.\n",
    "- Image Processing\n",
    "    - Segmentation, Denoising\n",
    "- Natural Language Processing\n",
    "    - Named entity recognition\n",
    "    - Parsing\n",
    "    - Computational Humor\n",
    "- Maximum entropy models (related to exponential family)\n",
    "- Conditional random fields (discriminative model)\n",
    "- Deep learning"
   ]
  },
  {
   "cell_type": "markdown",
   "metadata": {
    "slideshow": {
     "slide_type": "slide"
    }
   },
   "source": [
    "# Inference in Graphical Models\n",
    "\n",
    "> Uses material from **[MLAPP]** Chapters 20, 21"
   ]
  },
  {
   "cell_type": "markdown",
   "metadata": {
    "slideshow": {
     "slide_type": "slide"
    }
   },
   "source": [
    "### Inference in Graphical Models\n",
    "\n",
    "**Inference**:  Estimate hidden variables $Z$ from observed variables $X$.\n",
    "$$\n",
    "P(Z | X,\\theta) = \\frac{P(X,Z | \\theta)}{P(X|\\theta)}\n",
    "$$\n",
    "\n",
    "- Denominator $P(X|\\theta)$ is sometimes called the probability of the **evidence**.\n",
    "- Occasionally we care only about a subset of the hidden variables, and marginalize out the rest."
   ]
  },
  {
   "cell_type": "markdown",
   "metadata": {
    "slideshow": {
     "slide_type": "slide"
    }
   },
   "source": [
    "### Inference:  Examples\n",
    "\n",
    "We have already described the inference procedure for simple models:\n",
    "\n",
    "- Expectation Maximization\n",
    "- Mixture Models\n",
    "- Hidden Markov Models\n",
    "\n",
    "> Given an arbitrary directed or undirected graph, can we systematically perform inference?"
   ]
  },
  {
   "cell_type": "markdown",
   "metadata": {
    "slideshow": {
     "slide_type": "slide"
    }
   },
   "source": [
    "## Exact Inference\n",
    "\n",
    "> Uses material from **[MLAPP]** Chapter 20"
   ]
  },
  {
   "cell_type": "markdown",
   "metadata": {
    "slideshow": {
     "slide_type": "slide"
    }
   },
   "source": [
    "### Exact Inference\n",
    "\n",
    "We can recover $P(Z | X,\\theta)$ exactly when the hidden variables $Z$ are **discrete**.\n",
    "- Belief Propagation\n",
    "- Variable Elimination\n",
    "- Junction Tree\n",
    "\n",
    "Many exact inference algorithms can be seen as a generalization of the **fowards-backwards algorithm** for HMMs.\n",
    "> Unfortunately, they have undesirable time and space complexity properties."
   ]
  },
  {
   "cell_type": "markdown",
   "metadata": {
    "slideshow": {
     "slide_type": "slide"
    }
   },
   "source": [
    "### Exact Inference:  HMMs\n",
    "\n",
    "Recall that a **Hidden Markov Model** is a chain-structured directed model:"
   ]
  },
  {
   "cell_type": "code",
   "execution_count": 2,
   "metadata": {
    "collapsed": true,
    "slideshow": {
     "slide_type": "skip"
    }
   },
   "outputs": [],
   "source": [
    "@pgm_render\n",
    "def pgm_hmm():\n",
    "    pgm = daft.PGM([7, 7], origin=[0, 0])\n",
    "\n",
    "    # Nodes\n",
    "    pgm.add_node(daft.Node(\"Z1\", r\"$Z_1$\", 1, 3.5))\n",
    "    pgm.add_node(daft.Node(\"Z2\", r\"$Z_2$\", 2, 3.5))\n",
    "    pgm.add_node(daft.Node(\"Z3\", r\"$\\dots$\", 3, 3.5, plot_params={'ec':'none'}))\n",
    "    pgm.add_node(daft.Node(\"Z4\", r\"$Z_T$\", 4, 3.5))\n",
    "\n",
    "    pgm.add_node(daft.Node(\"x1\", r\"$X_1$\", 1, 2.5, observed=True))\n",
    "    pgm.add_node(daft.Node(\"x2\", r\"$X_2$\", 2, 2.5, observed=True))\n",
    "    pgm.add_node(daft.Node(\"x3\", r\"$\\dots$\", 3, 2.5, plot_params={'ec':'none'}))\n",
    "    pgm.add_node(daft.Node(\"x4\", r\"$X_T$\", 4, 2.5, observed=True))\n",
    "\n",
    "\n",
    "    # Add in the edges.\n",
    "    pgm.add_edge(\"Z1\", \"Z2\", head_length=0.08)\n",
    "    pgm.add_edge(\"Z2\", \"Z3\", head_length=0.08)\n",
    "    pgm.add_edge(\"Z3\", \"Z4\", head_length=0.08)\n",
    "\n",
    "    pgm.add_edge(\"Z1\", \"x1\", head_length=0.08)\n",
    "    pgm.add_edge(\"Z2\", \"x2\", head_length=0.08)\n",
    "    pgm.add_edge(\"Z4\", \"x4\", head_length=0.08)\n",
    "    \n",
    "    return pgm;"
   ]
  },
  {
   "cell_type": "code",
   "execution_count": 3,
   "metadata": {
    "collapsed": false,
    "slideshow": {
     "slide_type": "-"
    }
   },
   "outputs": [
    {
     "data": {
      "image/png": "[encoded data removed]",
      "text/plain": [
       "<IPython.core.display.Image object>"
      ]
     },
     "execution_count": 3,
     "metadata": {},
     "output_type": "execute_result"
    }
   ],
   "source": [
    "%%capture\n",
    "pgm_hmm(\"images/pgm/hmm.png\")"
   ]
  },
  {
   "cell_type": "markdown",
   "metadata": {
    "slideshow": {
     "slide_type": "slide"
    }
   },
   "source": [
    "### Exact Inference:  HMMs\n",
    "\n",
    "We used the **fowards-backwards algorithm** to find $P(Z_t | \\X,\\theta)$.\n",
    "- We split the graph at $Z_t$\n",
    "- Performed the **foward algorithm** to propagate information from the start state *forwards* to $Z_t$\n",
    "- Performed the **backward algorithm** to propagate information *backwards* to $Z_t$"
   ]
  },
  {
   "cell_type": "markdown",
   "metadata": {
    "slideshow": {
     "slide_type": "skip"
    }
   },
   "source": [
    "### Belief Propagation:  From Chains to Trees\n",
    "\n",
    "The **Belief Propagation** algorithm generalizes the forwards-backwards algorithm from chains to tree-structured graphs.\n",
    "- *Idea:*  Every path from the root node to a leaf node is a chain!\n",
    "\n",
    "> Let's do some hand-waving..."
   ]
  },
  {
   "cell_type": "markdown",
   "metadata": {
    "slideshow": {
     "slide_type": "skip"
    }
   },
   "source": [
    "### Belief Propagation:  Collect-to-Root Phase\n",
    "\n",
    "Much like before, we split the tree at node $t$ and propagate evidence upwards:\n",
    "\n",
    "<img src=\"images/murphy-fig201a.png\">\n",
    "\n",
    "<span style=\"color:gray; font-size:10px; float:right\">(Figure 20.1a from **[MLAPP]**)</span>"
   ]
  },
  {
   "cell_type": "markdown",
   "metadata": {
    "slideshow": {
     "slide_type": "skip"
    }
   },
   "source": [
    "### Belief Propagation:  Distribute-from-Root Phase\n",
    "\n",
    "Next, we propagate the collected evidence back down the tree:\n",
    "\n",
    "<img src=\"images/murphy-fig201b.png\">\n",
    "\n",
    "\n",
    "<span style=\"color:gray; font-size:10px; float:right\">(Figure 20.1b from **[MLAPP]**)</span>"
   ]
  },
  {
   "cell_type": "markdown",
   "metadata": {
    "slideshow": {
     "slide_type": "skip"
    }
   },
   "source": [
    "### Junction Tree:  From Trees to Graphs\n",
    "\n",
    "The **Junction Tree** algorithm generalizes Belief Propagation from trees to arbitary graphs.\n",
    "\n",
    "> See **[MLAPP]** or **[Koller & Friedman 2009]** for details."
   ]
  },
  {
   "cell_type": "markdown",
   "metadata": {
    "slideshow": {
     "slide_type": "slide"
    }
   },
   "source": [
    "### Exact Inference:  Summary\n",
    "\n",
    "**Omitting some slides from lecture** -- but still available on notes\n",
    "\n",
    "Exact inference is possible in discrete graphical models.\n",
    "- Unfortunately, algorithms to do so are ugly and complicated.\n",
    "- Moreover, exact inference is NP-Hard, so these algorithms are very inefficient.\n",
    "- Incapable of dealing with general, continuous distributions.\n",
    "\n",
    "Fortunately, **approximate inference** works well in practice."
   ]
  },
  {
   "cell_type": "markdown",
   "metadata": {
    "slideshow": {
     "slide_type": "slide"
    }
   },
   "source": [
    "## Approximate Inference\n",
    "\n",
    "> Uses material from **[MLAPP]** Chapter 21 and [MLSS 2009](http://videolectures.net/site/normal_dl/tag=50736/mlss09uk_murray_mcmc.pdf)"
   ]
  },
  {
   "cell_type": "markdown",
   "metadata": {
    "slideshow": {
     "slide_type": "slide"
    }
   },
   "source": [
    "### Approximate Inference:  Intro\n",
    "\n",
    "Exact inference is too difficult, so we turn to **approximate inference**.\n",
    "- Theory is lacking--no guarantees about accuracy or runtime\n",
    "- However, they seem to work well in practice.\n",
    "- Capable of handling continuous variables!\n",
    "\n",
    "The two most common methods are\n",
    "- **Markov Chain Monte Carlo:** Estimate $P(Z|X,\\theta)$ by sampling from it!\n",
    "- **Variational Inference:** Cast inference as a deterministic optimization problem."
   ]
  },
  {
   "cell_type": "markdown",
   "metadata": {
    "slideshow": {
     "slide_type": "slide"
    }
   },
   "source": [
    "### Integration is Hard\n",
    "\n",
    "In general, we want to find $p(X|Y)$ for some variables $X$ and $Y$.  Using Bayes' Rule,\n",
    "    $$p(y|x)= \\frac{p(x|y)p(y)}{p(x)}= \\frac{p(x|y)p(y)}{\\int_Y p(x|y)p(y)\\, dy}$$\n",
    "Usually, the hard part is evaluating the normalization integral,\n",
    "    $$\n",
    "    \\int_Y p(x|y)p(y)\\, dy\n",
    "    $$\n",
    "    \n",
    "> **Key Point:** Many inference problems can be reduced to the problem of *evaluating an integral*."
   ]
  },
  {
   "cell_type": "markdown",
   "metadata": {
    "slideshow": {
     "slide_type": "slide"
    }
   },
   "source": [
    "### Monte Carlo Integration\n",
    "\n",
    "\n",
    "Suppose we wish to evaluate $\\int_X f(x) p(x) \\, dx$, where\n",
    "\n",
    "- $f(x)$ is an arbitrary function\n",
    "- $p(x)$ is a probability distribution\n",
    "\n",
    "We can express this as an expectation, with $X \\sim p$,\n",
    "    $$\n",
    "    \\int_{X \\sim p} f(x) p(x) \\, dx = E_p[f(X)]\n",
    "    $$"
   ]
  },
  {
   "cell_type": "markdown",
   "metadata": {
    "slideshow": {
     "slide_type": "slide"
    }
   },
   "source": [
    "### Monte Carlo Integration\n",
    "\n",
    "We can approximate any expectation by averaging over samples $X_1,\\dots,X_N \\stackrel{iid}{\\sim} p(X)$,\n",
    "    $$\n",
    "    \\int_X f(x) p(x) \\, dx\n",
    "    = E_p[f(X)] \\approx \\bar{f}_N\n",
    "    = \\frac{1}{N} \\sum_{n=1}^N f(x_n)\n",
    "    $$\n",
    "    \n",
    "> **Key Point:** We can reduce any integration problem to a *sampling problem*."
   ]
  },
  {
   "cell_type": "markdown",
   "metadata": {
    "slideshow": {
     "slide_type": "slide"
    }
   },
   "source": [
    "### Example:  Dumb Approximation of $\\pi$\n",
    "\n",
    "We can express $\\pi$ as an integral over the unit circle $C$, which has area $\\pi r^2 = \\pi$.\n",
    "\n",
    "$$\n",
    "\\pi\n",
    "= \\int_{\\R^2} \\mathbb{I}_C(x) \\, dx\n",
    "= \\int_{[-1,1]\\times[-1,1]} \\mathbb{I}_C(x) \\,dx\n",
    "$$\n",
    "\n",
    "Let $p$ be the uniform distribution on the square of size $2$.\n",
    "$$\n",
    "p(x)=\\begin{cases} \\frac{1}{4} & x \\in [-1,1] \\times [-1,1] \\\\\n",
    "0 & \\text{ otherwise.}\n",
    "\\end{cases}\n",
    "$$\n",
    "\n",
    "Then,\n",
    "$$\n",
    "\\pi\n",
    "= 4\\; \\int_{[-1,1]\\times[-1,1]} \\mathbb{I}_C(x) p(x) \\,dx \\approx E_p[4\\cdot \\mathbb{I}_C(X) ]\n",
    "$$"
   ]
  },
  {
   "cell_type": "markdown",
   "metadata": {
    "slideshow": {
     "slide_type": "slide"
    }
   },
   "source": [
    "### Example:  Dumb Approximation of $\\pi$\n",
    "\n",
    "Therefore, we can estimate $\\pi$ by drawing samples uniformly from the square $[-1,1] \\times [-1,1]$ and computing the fraction of samples that fall within the unit circle $C$!\n",
    "> This method is **not ideal** and requires tons of samples.  \n",
    "\n",
    "$$\n",
    "\\frac{\\text{Area of Circle}}{\\text{Area of Square}}\n",
    "= \\frac{\\pi r^2}{4r^2} = \\frac{\\pi}{4}\n",
    "$$"
   ]
  },
  {
   "cell_type": "markdown",
   "metadata": {
    "slideshow": {
     "slide_type": "slide"
    }
   },
   "source": [
    "### Example:  Dumb Approximation of $\\pi$"
   ]
  },
  {
   "cell_type": "code",
   "execution_count": 4,
   "metadata": {
    "collapsed": true,
    "slideshow": {
     "slide_type": "skip"
    }
   },
   "outputs": [],
   "source": [
    "def estimate_pi(n):\n",
    "    # draw samples\n",
    "    samples = np.random.random((2,n)) * 2 - 1;\n",
    "    # separate samples inside/outside circle\n",
    "    r = np.sum(samples**2, axis=0);\n",
    "    inside = samples[:,r < 1];\n",
    "    outside = samples[:,r >= 1];\n",
    "    # estimate pi\n",
    "    return inside.shape[1] / n * 4;\n",
    "\n",
    "def estimate_pi_plot(n):\n",
    "    # draw samples\n",
    "    samples = np.random.random((2,n)) * 2 - 1;\n",
    "    # separate samples inside/outside circle\n",
    "    r = np.sum(samples**2, axis=0);\n",
    "    inside = samples[:,r < 1];\n",
    "    outside = samples[:,r >= 1];\n",
    "    # estimate pi\n",
    "    pi_estimate = inside.shape[1] / n * 4;\n",
    "    print(\"pi estimated to be %.5f\" % pi_estimate)\n",
    "\n",
    "    # plot\n",
    "    plt.figure(figsize=(6,6))\n",
    "    plt.plot(inside[0,:], inside[1,:], \"rx\");\n",
    "    plt.plot(outside[0,:], outside[1,:], \"bx\");\n",
    "    plt.axis(\"equal\");\n",
    "    plt.title(r\"$\\pi \\approx %0.2f$ from %d samples\" % (pi_estimate,n));"
   ]
  },
  {
   "cell_type": "code",
   "execution_count": 5,
   "metadata": {
    "collapsed": false,
    "slideshow": {
     "slide_type": "-"
    }
   },
   "outputs": [
    {
     "name": "stdout",
     "output_type": "stream",
     "text": [
      "pi estimated to be 3.14320\n"
     ]
    },
    {
     "data": {
      "image/png": "[encoded data removed]",
      "text/plain": [
       "<matplotlib.figure.Figure at 0x1082c1750>"
      ]
     },
     "metadata": {},
     "output_type": "display_data"
    }
   ],
   "source": [
    "estimate_pi_plot(5000)"
   ]
  },
  {
   "cell_type": "markdown",
   "metadata": {
    "slideshow": {
     "slide_type": "slide"
    }
   },
   "source": [
    "### Monte Carlo Integration:  Sampling\n",
    "\n",
    "We can compute any integral $\\int_X f(x)p(x) \\, dx$ provided that we know how to sample from $p$.  Different methods have been devloped to sample from arbitrary distributions:\n",
    "- Sampling from Inverse CDF\n",
    "- Rejection Sampling\n",
    "- Importance Sampling\n",
    "- Particle Filtering\n",
    "\n",
    "The most popular is **Markov Chain Monte Carlo**, which beats out the other methods in high-dimensional spaces."
   ]
  },
  {
   "cell_type": "markdown",
   "metadata": {
    "slideshow": {
     "slide_type": "slide"
    }
   },
   "source": [
    "### Markov Chain Monte Carlo\n",
    "\n",
    "**Goal:** Draw samples from $P(X_1,\\dots,X_N)$.\n",
    "- Usually, $N$ is large, so $P$ is high-dimensional.\n",
    "\n",
    "**Idea:** Construct a Markov Chain on the state space $\\X$ whose *stationary distribution* is the target density.\n",
    "\n",
    "> We will perform a (biased) random walk on the state space, such that the fraction of time we spend at each state $(x_1,\\dots,x_N)$ is proportional to $p(x_1,\\dots,x_N)$"
   ]
  },
  {
   "cell_type": "markdown",
   "metadata": {
    "slideshow": {
     "slide_type": "slide"
    }
   },
   "source": [
    "### Markov Chain Monte Carlo\n",
    "\n",
    "<img src=\"images/mcmc.png\">\n",
    "\n",
    "<span style=\"color:gray; font-size:10px; float:right\">(Figure taken from [MLSS 2009 Slides](http://videolectures.net/site/normal_dl/tag=50736/mlss09uk_murray_mcmc.pdf))</span>"
   ]
  },
  {
   "cell_type": "markdown",
   "metadata": {
    "slideshow": {
     "slide_type": "slide"
    }
   },
   "source": [
    "### MCMC:  Gibbs Sampling\n",
    "\n",
    "Sample each variable in turn, conditioned on all the others.\n",
    "- Assumes the **full conditionals** $p(x_k | \\mathbf{x}_{-k})$ are known\n",
    "\n",
    "<div style=\"margin: 10px; padding: 20px; border: 2px solid black\">\n",
    "<ol>\n",
    "    <li>Initialize $\\mathbf{x}^{0}=(x_1^0, x_2^0, \\dots, x_N^0)$ randomly.</li>\n",
    "    <li>For $k \\in {1,\\dots,N}$ in a random order,\n",
    "        <ol>\n",
    "            <li>Set $\\mathbf{x}^{t+1} = \\mathbf{x}^t$\n",
    "            <li>Resample $x_k^{t+1} \\sim p(x_k \\mid \\mathbf{x}_{-k}^t)$\n",
    "        </ol></li>\n",
    "</ol>\n",
    "</div>"
   ]
  },
  {
   "cell_type": "markdown",
   "metadata": {
    "slideshow": {
     "slide_type": "slide"
    }
   },
   "source": [
    "### MCMC:  Gibbs Sampling\n",
    "\n",
    "<img src=\"images/bishop-fig1111.png\">\n",
    "\n",
    "<span style=\"color:gray; font-size:10px; float:right\">(Figure 11.11 from **[PRML]**)</span>"
   ]
  },
  {
   "cell_type": "markdown",
   "metadata": {
    "slideshow": {
     "slide_type": "slide"
    }
   },
   "source": [
    "### MCMC:  Summary\n",
    "\n",
    "1. Inference can often be reduced to an integration problem.\n",
    "2. Integration problems can be expressed as an expection.\n",
    "3. Expectations can be approximated by averaging over samples.\n",
    "4. **Inference can be reduced to a sampling problem.**"
   ]
  },
  {
   "cell_type": "markdown",
   "metadata": {
    "slideshow": {
     "slide_type": "slide"
    }
   },
   "source": [
    "### MCMC:  Summary\n",
    "\n",
    "Advantages:\n",
    "- Easy to implement\n",
    "- Works well in high dimensions\n",
    "- Guaranteed to converge to the true distribution\n",
    "\n",
    "Disadvantages:\n",
    "- The Markov Chain may not **mix** fast enough\n",
    "- Need lots of samples\n",
    "- Convergence rate unknown"
   ]
  },
  {
   "cell_type": "markdown",
   "metadata": {
    "slideshow": {
     "slide_type": "slide"
    }
   },
   "source": [
    "# Application:  Latent Dirichlet Allocation\n",
    "\n",
    "> This was originally a homework problem, but you lucked out :)  See [**[Blei, Ng, and Jordan 2003]**](http://ai.stanford.edu/~ang/papers/nips01-lda.pdf) for details."
   ]
  },
  {
   "cell_type": "markdown",
   "metadata": {
    "slideshow": {
     "slide_type": "slide"
    }
   },
   "source": [
    "### Latent Dirichlet Allocation\n",
    "\n",
    "**Latent Dirichlet Allocation** models documents as mixtures of latent *topics*.\n",
    "- Makes the **bag-of-words** assumption.\n",
    "- A **topic** is a probability distribution over words.\n",
    "- Is a **mixed-membership** mixture model.  Each document expresses more than one topic with different *proportions*."
   ]
  },
  {
   "cell_type": "markdown",
   "metadata": {
    "slideshow": {
     "slide_type": "slide"
    }
   },
   "source": [
    "### LDA:  Generative Process\n",
    "\n",
    "Given a set $\\beta=(\\beta_1,\\dots,\\beta_K)$ of $K$ topics and a fixed vocabulary, generate documents in the following way:\n",
    "\n",
    "- For document $d=1,2, \\dots$\n",
    "    - Choose topic proportions $\\theta_d \\sim \\mathrm{Dirichlet}(\\alpha)$\n",
    "    - For word position $n=1,2,\\dots$,\n",
    "        - Sample topic $z_{dn} \\sim  \\Cat(\\theta_d)$\n",
    "        - Sample word $w_{dn} \\sim \\Cat(\\beta_{z_{dn}})$"
   ]
  },
  {
   "cell_type": "markdown",
   "metadata": {
    "slideshow": {
     "slide_type": "slide"
    }
   },
   "source": [
    "### LDA:  Graphical Model\n",
    "\n",
    "<img src=\"images/lda-pgm.png\">\n",
    "\n",
    "<span style=\"color:gray; font-size:10px; float:right\">(Taken from [MLSS 2012 Slides](http://yosinski.com/mlss12/media/slides/MLSS-2012-Blei-Probabilistic-Topic-Models.pdf) by David Blei)</span>"
   ]
  },
  {
   "cell_type": "markdown",
   "metadata": {
    "slideshow": {
     "slide_type": "slide"
    }
   },
   "source": [
    "### LDA:  Intuitive View\n",
    "\n",
    "<img src=\"images/lda-explained.png\">\n",
    "\n",
    "\n",
    "<span style=\"color:gray; font-size:10px; float:right\">(Taken from [MLSS 2012 Slides](http://yosinski.com/mlss12/media/slides/MLSS-2012-Blei-Probabilistic-Topic-Models.pdf) by David Blei)</span>"
   ]
  },
  {
   "cell_type": "markdown",
   "metadata": {
    "slideshow": {
     "slide_type": "slide"
    }
   },
   "source": [
    "### LDA:  Example of Learned Topics\n",
    "\n",
    "<img src=\"images/lda-topics.png\">\n",
    "\n",
    "<span style=\"color:gray; font-size:10px; float:right\">(Taken from [MLSS 2012 Slides](http://yosinski.com/mlss12/media/slides/MLSS-2012-Blei-Probabilistic-Topic-Models.pdf) by David Blei)</span>"
   ]
  },
  {
   "cell_type": "markdown",
   "metadata": {
    "slideshow": {
     "slide_type": "slide"
    }
   },
   "source": [
    "### LDA:  Inference\n",
    "\n",
    "Latent Dirichlet Allocation is arguably the simplest model that requires approximate inference.  It is often used as the \"hello world\" example when new inference techniques are introduced.\n",
    "\n",
    "- Mean field variational inference\n",
    "- Expectation propagation\n",
    "- Collapsed Gibbs sampling\n",
    "- Distributed sampling\n",
    "- Collapsed variational inference\n",
    "- Online variational inference\n",
    "- Factorization based inference\n",
    "\n",
    "Latent Dirichlet Allocation has **many, many** applications to areas other than text modeling."
   ]
  }
 ],
 "metadata": {
  "anaconda-cloud": {},
  "celltoolbar": "Slideshow",
  "kernelspec": {
   "display_name": "Python [default]",
   "language": "python",
   "name": "python3"
  },
  "language_info": {
   "codemirror_mode": {
    "name": "ipython",
    "version": 3
   },
   "file_extension": ".py",
   "mimetype": "text/x-python",
   "name": "python",
   "nbconvert_exporter": "python",
   "pygments_lexer": "ipython3",
   "version": "3.5.2"
  }
 },
 "nbformat": 4,
 "nbformat_minor": 0
}
